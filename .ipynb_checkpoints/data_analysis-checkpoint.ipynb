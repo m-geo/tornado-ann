{
 "cells": [
  {
   "cell_type": "markdown",
   "metadata": {},
   "source": [
    "\n",
    "# Tornado ANN Project: Sounding Data Processing and Prelim Analysis\\\n",
    "This file contains a selection of the data processing done to process and analyze the U. Wyo. sounding data and its correlations to tornado occurrence"
   ]
  },
  {
   "cell_type": "markdown",
   "metadata": {},
   "source": [
    "## Function Definitions"
   ]
  },
  {
   "cell_type": "code",
   "execution_count": 1,
   "metadata": {
    "scrolled": true
   },
   "outputs": [],
   "source": [
    "import re\n",
    "import numpy as np\n",
    "import csv\n",
    "from scipy import stats\n",
    "import itertools\n",
    "\n",
    "obj = open(\"station_list.txt\", \"r\")\n",
    "station_list = [line.strip(\"\\n\") for line in obj]\n",
    "obj.close()"
   ]
  },
  {
   "cell_type": "code",
   "execution_count": 2,
   "metadata": {},
   "outputs": [],
   "source": [
    "from matplotlib import pyplot as plt\n"
   ]
  },
  {
   "cell_type": "code",
   "execution_count": 26,
   "metadata": {},
   "outputs": [],
   "source": [
    "import random"
   ]
  },
  {
   "cell_type": "code",
   "execution_count": 4,
   "metadata": {},
   "outputs": [],
   "source": [
    "import pandas as pd\n",
    "import seaborn as sns\n",
    "import math"
   ]
  },
  {
   "cell_type": "code",
   "execution_count": 5,
   "metadata": {},
   "outputs": [],
   "source": [
    "%config IPCompleter.greedy=True"
   ]
  },
  {
   "cell_type": "code",
   "execution_count": 6,
   "metadata": {
    "code_folding": [
     103,
     126,
     148
    ],
    "scrolled": true
   },
   "outputs": [],
   "source": [
    "#get_data is the sounding data intake function, strips the end indeces\n",
    "def get_data(station,year,month,day):\n",
    "\tobj = open(\"./data2/data/{}_{}_{}_{}.txt\".format(str(station),str(year),str(month),str(day)), \"r\")\n",
    "\tdata = []\n",
    "\tfirst_data = [line.strip(\"\\n\") for line in obj]\n",
    "\tsecond_data = []\n",
    "\tfor line in first_data:\n",
    "\t\tif line[re.search(\"\\S\",line).start()].isalpha() == False:\t#gets rid of the bottom indeces\n",
    "\t\t\tsecond_data.append(line)\n",
    "\ttry:\n",
    "\t\tsecond_data.pop(-1)\n",
    "\texcept IndexError:\n",
    "\t\tdata = []\n",
    "        \n",
    "\tfor line in second_data:\n",
    "\t\tnew_line = [line[i:i+7] for i in range(0, len(line), 7)]\n",
    "\t\tnew_new_line = [i.strip() for i in new_line]\n",
    "\t\tdata.append(new_new_line)\n",
    "\n",
    "\tobj.close()\n",
    "\treturn data\n",
    "#get_CSV_data is the csv data intake function, returns list of lists\n",
    "def get_CSV_data(file):\n",
    "\tcsvFile = open(file, \"r\")\n",
    "\tcsvReader = csv.reader(csvFile)\n",
    "\tcsvGrid = list(csvReader)\n",
    "\tcsvFile.close()\n",
    "\treturn csvGrid\n",
    "#get_index gets the single value or (normal, virtual) tuple for a given index at a given date at a given station\n",
    "def get_index(index,station,year,month,day,time):\n",
    "    try:\n",
    "        obj = None\n",
    "        first_data = []\n",
    "        if int(time)<1800: #use 12Z\n",
    "            obj = open(\"./data2/data/{}_{}_{}_{}.txt\".format(str(station),str(year),str(month).zfill(2),str(day).zfill(2)), \"r\")\n",
    "            first_data = [line for line in obj]\n",
    "        else: #use 00Z\n",
    "            obj = open(\"./data3/data/{}_{}_{}_{}.txt\".format(str(station),str(year),str(month).zfill(2),str(day).zfill(2)), \"r\")\n",
    "            first_data = [line for line in obj]\n",
    "        if index == \"show\" or index == \"sweat\" or index == \"k\" or index == \"cross\" or index == \"vertical\" or index == \"totals\":\n",
    "            val = None\n",
    "            for line in first_data:\n",
    "                if index == \"show\":\n",
    "                     if \"Showalter index\" in line:\n",
    "                        val = float(line[44:])\n",
    "                        break\n",
    "                elif index == \"sweat\":\n",
    "                    if \"SWEAT index\" in line:\n",
    "                        val = float(line[44:])\n",
    "                        break\n",
    "                elif index == \"k\":\n",
    "                    if \"K index\" in line:\n",
    "                        val = float(line[44:])\n",
    "                        break\n",
    "                elif index == \"cross\":\n",
    "                    if \"Cross totals index\" in line:\n",
    "                        val = float(line[44:])\n",
    "                        break\n",
    "                elif index == \"vertical\":\n",
    "                    if \"Vertical totals index\" in line:\n",
    "                        val = float(line[44:])\n",
    "                        break\n",
    "                elif index == \"totals\":\n",
    "                    if \"Totals totals index\" in line:\n",
    "                        val = float(line[44:])\n",
    "                        break\n",
    "            return val\n",
    "        elif index == \"cape\" or index == \"cin\" or index == \"brn\" or index ==\"lift\":\n",
    "            val = None\n",
    "            val_v = None\n",
    "            for line in first_data:\n",
    "                if index == \"cape\":\n",
    "                    if \"Convective Available Potential Energy\" in line:\n",
    "                        val = float(line[44:])\n",
    "                    elif \"CAPE using virtual temperature\" in line:\n",
    "                        val_v = float(line[44:])\n",
    "                elif index == \"cin\":\n",
    "                    if \"Convective Inhibition\" in line:\n",
    "                        val = float(line[44:])\n",
    "                    elif \"CINS using virtual temperature\" in line:\n",
    "                        val_v = float(line[44:])\n",
    "                elif index == \"brn\":\n",
    "                    if \"Bulk Richardson Number\" in line and \"using CAPV\" not in line:\n",
    "                        val = float(line[44:])\n",
    "                    elif \"Bulk Richardson Number using CAPV\" in line:\n",
    "                        val_v = float(line[44:])\n",
    "                elif index == \"lift\":\n",
    "                    if \"Lifted index\" in line:\n",
    "                        val = float(line[44:])\n",
    "                    elif \"LIFT computed using virtual temperature\" in line:\n",
    "                        val_v = float(line[44:])\n",
    "            return (val, val_v)\n",
    "        obj.close()\n",
    "    except IOError:\n",
    "        pass\n",
    "    except ValueError:\n",
    "        pass\n",
    "#station_locations returns a dictionary of the form {station:(lat,long)}\n",
    "def station_locations(station_list):\n",
    "\tlocation_dic = {}\n",
    "\tfor station in station_list:\n",
    "\t\tobj = open(\"./data/{}_2017_01_01.txt\".format(station), \"r\")\n",
    "\t\tdata = [line.strip(\"\\n\") for line in obj]\n",
    "\t\tfor line in data:\n",
    "\t\t\tif \"Station latitude\" in line:\t\t#find the latitude line and make a tuple with the latitude and the longitude(which is on the next line)\n",
    "\t\t\t\tlocation_dic[station] = (float(line[45:51]),float(data[data.index(line)+1][45:51]))\n",
    "\t\tobj.close()\n",
    "\treturn location_dic\n",
    "\n",
    "#tester function: inspect_cape looks at what portion has pre-computed CAPE and prints it\n",
    "def inspect_cape():\n",
    "    pos = 0\n",
    "    neg = 0\n",
    "    null = 0\n",
    "    try:\n",
    "        for station in station_list:\n",
    "            for year in range(1973,2018):\n",
    "                for month in range(1,13):\n",
    "                    for day in range(1,29):\n",
    "                        obj = open(\"./data2/data/{}_{}_{}_{}.txt\".format(str(station),str(year),str(month).zfill(2),str(day).zfill(2)), \"r\")\n",
    "                        page = [line for line in obj]\n",
    "                        for line in page:\n",
    "                            if \"Convective Available Potential Energy\" in line:\n",
    "                                pos += 1\n",
    "                            elif len(page) == 1 or len(page) == 0:\n",
    "                                null += 1\n",
    "                            else:\n",
    "                                neg += 1\n",
    "                        obj.close()\n",
    "    except IOError:\n",
    "        print(\"oops\")\n",
    "    print (pos, neg, null)\n",
    "\n",
    "#county_locations returns a dictionary of the form {(county,ST):(lat,long)} where lat and long are the averaged zipcode values\n",
    "def county_locations():\n",
    "\tzipcodes = get_CSV_data(\"./storm_data/zip_codes_states.csv\")\n",
    "\tzipcodes.pop(0)\n",
    "\tcounty_zips = {}\n",
    "\tfor code in zipcodes:\n",
    "\t\ttry: \t#if it already exists, average the values\n",
    "\t\t\tif county_zips[(code[5],code[4])] and code[1] != '':\n",
    "\t\t\t\tcounty_zips[(code[5],code[4])] = ( (county_zips[(code[5],code[4])][0] + float(code[1]))/2 , (county_zips[(code[5],code[4])][1] + float(code[2]))/2 )\n",
    "\t\texcept KeyError:\n",
    "\t\t\tif code[1] != '':\n",
    "\t\t\t\tcounty_zips[(code[5],code[4])] = (float(code[1]),float(code[2]))\n",
    "\treturn county_zips\n",
    "#storm_data returns a dictionary of the form {year:[CSV storm data for that year]}\n",
    "def storm_data():\n",
    "\tobj = open(\"./storm_data/file_list.txt\", \"r\")\n",
    "\tfile_list =  [line.strip(\"\\n\") for line in obj]\n",
    "\tdata_dic = {}\n",
    "\tfor i in file_list:\n",
    "\t\tdata_dic[int(i[30:34])] = get_CSV_data(\"./storm_data/{}\".format(i))\n",
    "\tobj.close()\n",
    "\treturn data_dic\n",
    "#state_abbrv converts the state name to its abbreviation\n",
    "def state_abbrv(state):\t#where state is a string\n",
    "\tstate_list = get_CSV_data(\"./storm_data/states.csv\")\n",
    "\tstate_dic = {line[0]:line[1] for line in state_list}\n",
    "\treturn state_dic[state]"
   ]
  },
  {
   "cell_type": "code",
   "execution_count": 7,
   "metadata": {
    "code_folding": []
   },
   "outputs": [],
   "source": [
    "def index_events(index): #gets all the events associated with a particular index value/tuple for their day\n",
    "    event_index_dic = {} \t#format: {event_id:(index tuple for that day) OR single value}\n",
    "    for year in storm_dic.keys():\n",
    "        print(year)\n",
    "        for event in storm_dic[year][1:]:\n",
    "            try:\n",
    "                location = ()\t#location should be a tuple\n",
    "                info = [] #format: [station, year, month, day, time]\n",
    "                if event[7] in tornado_ids:\n",
    "                    if int(event[2])>600: #if it happens after 6 am (avg for 12Z)\n",
    "                        if event[44] and event[45]:\t#if this event has lat/long\n",
    "                            for station in station_loc_dic:\t#try each station and see if it's close enought to one\n",
    "                                if abs(float(event[44]) - float(station_loc_dic[station][0])) < limit_lat and abs(float(event[45]) - float(station_loc_dic[station][1])) < limit_long:\n",
    "                                    location = (float(event[44]),float(event[45]))\n",
    "                                    info.append(station)\n",
    "                                    info.append(event[0][:4]) #year\n",
    "                                    info.append(event[0][4:]) #month\n",
    "                                    info.append(event[1].zfill(2)) #day\n",
    "                                    info.append(event[2]) #time\n",
    "                                    event_index_dic[event[7]] = get_index(index,info[0],info[1],info[2],info[3],info[4])\t#get the cape for this baby\n",
    "                                    break\n",
    "                        else:\t#if it doesnt have lat/long, extrapolate from county name\n",
    "                            county = (event[15].title(),state_abbrv(event[8].title()))\n",
    "                            if county in station_county_dic.values():\n",
    "                                location = county_loc_dic[county]\n",
    "                                info.append(station_county_dic[station][0])\n",
    "                                info.append(event[0][:4]) #year\n",
    "                                info.append(event[0][4:]) #month\n",
    "                                info.append(event[1].zfill(2)) #day\n",
    "                                info.append(event[2]) #time\n",
    "                                event_index_dic[event[7]] = get_index(index,info[0],info[1],info[2],info[3],info[4])\n",
    "                    else: #if it's early in the morning, get the prev day\n",
    "                        if event[44] and event[45]:\t#if this event has lat/long\n",
    "                            for station in station_loc_dic:\t#try each station and see if it's close enought to one\n",
    "                                if abs(float(event[44]) - float(station_loc_dic[station][0])) < limit_lat and abs(float(event[45]) - float(station_loc_dic[station][1])) < limit_long:\n",
    "                                    location = (float(event[44]),float(event[45]))\n",
    "                                    info.append(station)\n",
    "                                    info.append(event[0][:4]) #year\n",
    "                                    info.append(event[0][4:]) #month\n",
    "                                    info.append(str(int(event[1])-1).zfill(2)) #day\n",
    "                                    info.append('2400') #time\n",
    "                                    event_index_dic[event[7]] = get_index(index,info[0],info[1],info[2],info[3],info[4])\t#get the cape for this baby\n",
    "                                    break\n",
    "                        else:\t#if it doesnt have lat/long, extrapolate from county name\n",
    "                            county = (event[15].title(),state_abbrv(event[8].title()))\n",
    "                            if county in station_county_dic.values():\n",
    "                                location = county_loc_dic[county]\n",
    "                                info.append(station_county_dic[station][0])\n",
    "                                info.append(event[0][:4]) #year\n",
    "                                info.append(event[0][4:]) #month\n",
    "                                info.append(str(int(event[1])-1).zfill(2)) #day\n",
    "                                info.append('2400') #time\n",
    "                                event_index_dic[event[7]] = get_index(index,info[0],info[1],info[2],info[3],info[4])\n",
    "            except KeyError:\n",
    "                pass\n",
    "            except ValueError:\n",
    "                pass\n",
    "    return event_index_dic"
   ]
  },
  {
   "cell_type": "code",
   "execution_count": 8,
   "metadata": {
    "code_folding": []
   },
   "outputs": [],
   "source": [
    "def event_dates(): \n",
    "    event_date_dic = {} #dictionary of event_id:date tuple (four values) for it\n",
    "    cnt6am = 0\n",
    "    for year in storm_dic.keys():\n",
    "        print(year)\n",
    "        for event in storm_dic[year][1:]: # event means line in csv\n",
    "            try:\n",
    "                location = ()\t#location should be a tuple\n",
    "                info = [] #format: [station, year, month, day, time]\n",
    "                if event[7] in tornado_ids: #if the event is a tornado\n",
    "                    if int(event[2])>600: #if it happens after 6 am (avg for 12Z)\n",
    "                        if event[44] and event[45]:\t#if this event has lat/long\n",
    "                            for station in station_loc_dic:\t#try each station and see if it's close enought to one\n",
    "                                if abs(float(event[44]) - float(station_loc_dic[station][0])) < limit_lat and abs(float(event[45]) - float(station_loc_dic[station][1])) < limit_long:\n",
    "                                    location = (float(event[44]),float(event[45]))\n",
    "                                    info.append(station)\n",
    "                                    info.append(event[0][:4]) #year\n",
    "                                    info.append(event[0][4:]) #month\n",
    "                                    info.append(event[1].zfill(2))\n",
    "                                    info.append(event[2]) #time\n",
    "                                    break \n",
    "                        else:\t#if it doesnt have lat/long, extrapolate from county name\n",
    "                            county = (event[15].title(),state_abbrv(event[8].title()))\n",
    "                            if county in station_county_dic.values():\n",
    "                                location = county_loc_dic[county]\n",
    "                                info.append(station_county_dic[station][0])\n",
    "                                info.append(event[0][:4]) #year\n",
    "                                info.append(event[0][4:]) #month\n",
    "                                info.append(event[1].zfill(2)) #day\n",
    "                                info.append(event[2]) #time\n",
    "                        if info != []:\n",
    "                            event_date_dic[event[7]]=tuple(info)\n",
    "                    else: #if it's early in the morning, get the previous day's sounding\n",
    "                        cnt6am += 1\n",
    "                        if event[44] and event[45]:\t#if this event has lat/long\n",
    "                            for station in station_loc_dic:\t#try each station and see if it's close enought to one\n",
    "                                if abs(float(event[44]) - float(station_loc_dic[station][0])) < limit_lat and abs(float(event[45]) - float(station_loc_dic[station][1])) < limit_long:\n",
    "                                    location = (float(event[44]),float(event[45]))\n",
    "                                    info.append(station)\n",
    "                                    info.append(event[0][:4]) #year\n",
    "                                    info.append(event[0][4:]) #month\n",
    "                                    info.append(str(int(event[1])-1).zfill(2)) #day\n",
    "                                    info.append('2400') #time\n",
    "                                    break\n",
    "                        else:\t#if it doesnt have lat/long, extrapolate from county name\n",
    "                            county = (event[15].title(),state_abbrv(event[8].title()))\n",
    "                            if county in station_county_dic.values():\n",
    "                                location = county_loc_dic[county]\n",
    "                                info.append(station_county_dic[station][0])\n",
    "                                info.append(event[0][:4]) #year\n",
    "                                info.append(event[0][4:]) #month\n",
    "                                info.append(str(int(event[1])-1).zfill(2)) #day\n",
    "                                info.append('2400') #time\n",
    "                        if info != []:\n",
    "                            event_date_dic[event[7]]=tuple(info)\n",
    "            except KeyError:\n",
    "                print('KeyError')\n",
    "                pass\n",
    "            except ValueError:\n",
    "                print('ValueError')\n",
    "                pass\n",
    "    return (event_date_dic,cnt6am)"
   ]
  },
  {
   "cell_type": "markdown",
   "metadata": {},
   "source": [
    "## Retrieving First Batch of Data\n",
    "loading the storm data, the station locations, and the storm / index combination for CAPE"
   ]
  },
  {
   "cell_type": "code",
   "execution_count": 9,
   "metadata": {},
   "outputs": [],
   "source": [
    "storm_dic = storm_data()\t#year:CSV storm data for that year\n",
    "county_loc_dic = county_locations()\t#county:its location (tuple/tuple)\n",
    "station_loc_dic = station_locations(station_list)\t#station:its location\n",
    "\n",
    "#station county dic has all the relevant counties sorted by stations to which they are relevant\n",
    "station_county_dic = {} #format: {station:(station,[(county, ST),(other county, ST)])}\n",
    "limit_lat = 0.43\t#within ~50 km\n",
    "limit_long = 0.56\t#^^\n",
    "#populate the station_county_dic:\n",
    "for county in county_loc_dic:\n",
    "    for station in station_loc_dic:\n",
    "        if abs(float(county_loc_dic[county][0]) - float(station_loc_dic[station][0])) < limit_lat and abs(float(county_loc_dic[county][1]) - float(station_loc_dic[station][1])) < limit_long:\n",
    "            try:\n",
    "                station_county_dic[station][1].append(county)\n",
    "            except KeyError:\n",
    "                station_county_dic[station] = (station,[county])\n",
    "#print (station_county_dic)"
   ]
  },
  {
   "cell_type": "code",
   "execution_count": 81,
   "metadata": {
    "collapsed": true
   },
   "outputs": [
    {
     "name": "stdout",
     "output_type": "stream",
     "text": [
      "1973\n",
      "1974\n",
      "1975\n",
      "1976\n",
      "1977\n",
      "1978\n",
      "1979\n",
      "1980\n",
      "1981\n",
      "1982\n",
      "1983\n",
      "1984\n",
      "1985\n",
      "1986\n",
      "1987\n",
      "1988\n",
      "1989\n",
      "1990\n",
      "1991\n",
      "1992\n",
      "1993\n",
      "1994\n",
      "1995\n",
      "KeyError\n",
      "1996\n",
      "1997\n",
      "1998\n",
      "1999\n",
      "KeyError\n",
      "KeyError\n",
      "KeyError\n",
      "2000\n",
      "KeyError\n",
      "KeyError\n",
      "2001\n",
      "KeyError\n",
      "2002\n",
      "KeyError\n",
      "2003\n",
      "2004\n",
      "KeyError\n",
      "2005\n",
      "2006\n",
      "KeyError\n",
      "2007\n",
      "2008\n",
      "2009\n",
      "2010\n",
      "2011\n",
      "2012\n",
      "2013\n",
      "2014\n",
      "2015\n",
      "2016\n",
      "2017\n"
     ]
    }
   ],
   "source": [
    "event_dates,cnt6am = event_dates()"
   ]
  },
  {
   "cell_type": "code",
   "execution_count": 68,
   "metadata": {
    "collapsed": true
   },
   "outputs": [
    {
     "name": "stdout",
     "output_type": "stream",
     "text": [
      "1973\n",
      "1974\n",
      "1975\n",
      "1976\n",
      "1977\n",
      "1978\n",
      "1979\n",
      "1980\n",
      "1981\n",
      "1982\n",
      "1983\n",
      "1984\n",
      "1985\n",
      "1986\n",
      "1987\n",
      "1988\n",
      "1989\n",
      "1990\n",
      "1991\n",
      "1992\n",
      "1993\n",
      "1994\n",
      "1995\n",
      "1996\n",
      "1997\n",
      "1998\n",
      "1999\n",
      "2000\n",
      "2001\n",
      "2002\n",
      "2003\n",
      "2004\n",
      "2005\n",
      "2006\n",
      "2007\n",
      "2008\n",
      "2009\n",
      "2010\n",
      "2011\n",
      "2012\n",
      "2013\n",
      "2014\n",
      "2015\n",
      "2016\n",
      "2017\n"
     ]
    }
   ],
   "source": [
    "cape_events = index_events(\"cape\")"
   ]
  },
  {
   "cell_type": "markdown",
   "metadata": {},
   "source": [
    "## NARR validation\n",
    "verifying that NARR is an accurate representation of sounding data"
   ]
  },
  {
   "cell_type": "code",
   "execution_count": 18,
   "metadata": {},
   "outputs": [],
   "source": [
    "import scipy"
   ]
  },
  {
   "cell_type": "code",
   "execution_count": 28,
   "metadata": {
    "code_folding": [
     12
    ]
   },
   "outputs": [],
   "source": [
    "narr_cape_list = []\n",
    "station_cape_list = []\n",
    "for entry in station_loc_dic.keys():\n",
    "    lat = station_loc_dic[entry][0]\n",
    "    lon = station_loc_dic[entry][1]\n",
    "    #print(lat,lon)\n",
    "    tmp_station_list = []\n",
    "    try:\n",
    "        f = open('./station_results_full/station_lat{}_lon{}.txt'.format(lat,lon),'r')\n",
    "        tmp_station_list = [i.strip('\\n') for i in f]\n",
    "        f.close()\n",
    "    except FileNotFoundError:\n",
    "        try:\n",
    "            f = open('./station_results_full/station_lat{}_lon{}0.txt'.format(lat,lon),'r') #that trailing zero\n",
    "            tmp_station_list = [i.strip('\\n') for i in f]\n",
    "            f.close()\n",
    "        except FileNotFoundError:\n",
    "            f = open('./station_results_full/station_lat{}0_lon{}.txt'.format(lat,lon),'r') #that trailing zero\n",
    "            tmp_station_list = [i.strip('\\n') for i in f]\n",
    "            f.close()\n",
    "    del tmp_station_list[0:4]\n",
    "    station_list = []\n",
    "    for i in tmp_station_list:\n",
    "        tmp1=i.split(',')\n",
    "        tmp2=[j.lstrip() for j in tmp1]\n",
    "        station_list.append(tmp2)\n",
    "    for i in station_list:\n",
    "        year = i[0][0:4]\n",
    "        month = i[0][5:7]\n",
    "        day = i[0][8:10]\n",
    "        try:\n",
    "            stat = get_index('cape',str(entry), year, month, day, '0700')[0]\n",
    "            if stat != None:\n",
    "                station_cape_list.append(stat)\n",
    "                narr_cape_list.append(float(i[1]))\n",
    "        except TypeError:\n",
    "            pass\n"
   ]
  },
  {
   "cell_type": "code",
   "execution_count": 32,
   "metadata": {
    "scrolled": true
   },
   "outputs": [
    {
     "data": {
      "text/plain": [
       "(0.8719592477835569, 0.0)"
      ]
     },
     "execution_count": 32,
     "metadata": {},
     "output_type": "execute_result"
    }
   ],
   "source": [
    "scipy.stats.pearsonr(station_cape_list,narr_cape_list) #[x*1.2 for x in narr_cape_list]"
   ]
  },
  {
   "cell_type": "code",
   "execution_count": 59,
   "metadata": {
    "scrolled": true
   },
   "outputs": [
    {
     "data": {
      "image/png": "[encoded data removed]",
      "text/plain": [
       "<Figure size 576x576 with 1 Axes>"
      ]
     },
     "metadata": {
      "needs_background": "light"
     },
     "output_type": "display_data"
    }
   ],
   "source": [
    "fig = plt.figure(figsize=(8,8))\n",
    "plt.scatter(station_cape_list,narr_cape_list, alpha=0.007)\n",
    "plt.xlabel(\"Soundings\")\n",
    "plt.ylabel(\"NARR\")\n",
    "plt.title(\"Comparison of CAPE values\")\n",
    "plt.xlim(0,5000)\n",
    "plt.ylim(0, 5000)\n",
    "#x = np.linspace(-0,8000)\n",
    "#plt.plot(x,x,color='red')\n",
    "plt.savefig(\"narr_validation_cape.png\",dpi=399)"
   ]
  },
  {
   "cell_type": "code",
   "execution_count": null,
   "metadata": {},
   "outputs": [],
   "source": [
    "#do the same thing for lift"
   ]
  },
  {
   "cell_type": "code",
   "execution_count": 37,
   "metadata": {
    "code_folding": [
     11
    ]
   },
   "outputs": [],
   "source": [
    "narr_lift_list = []\n",
    "station_lift_list = []\n",
    "for entry in station_loc_dic.keys():\n",
    "    lat = station_loc_dic[entry][0]\n",
    "    lon = station_loc_dic[entry][1]\n",
    "    #print(lat,lon)\n",
    "    tmp_station_list = []\n",
    "    try:\n",
    "        f = open('./station_results_full/station_lat{}_lon{}.txt'.format(lat,lon),'r')\n",
    "        tmp_station_list = [i.strip('\\n') for i in f]\n",
    "        f.close()\n",
    "    except FileNotFoundError:\n",
    "        try:\n",
    "            f = open('./station_results_full/station_lat{}_lon{}0.txt'.format(lat,lon),'r') #that trailing zero\n",
    "            tmp_station_list = [i.strip('\\n') for i in f]\n",
    "            f.close()\n",
    "        except FileNotFoundError:\n",
    "            f = open('./station_results_full/station_lat{}0_lon{}.txt'.format(lat,lon),'r') #that trailing zero\n",
    "            tmp_station_list = [i.strip('\\n') for i in f]\n",
    "            f.close()\n",
    "    del tmp_station_list[0:4]\n",
    "    station_list = []\n",
    "    for i in tmp_station_list:\n",
    "        tmp1=i.split(',')\n",
    "        tmp2=[j.lstrip() for j in tmp1]\n",
    "        station_list.append(tmp2)\n",
    "    for i in station_list:\n",
    "        year = i[0][0:4]\n",
    "        month = i[0][5:7]\n",
    "        day = i[0][8:10]\n",
    "        try:\n",
    "            stat = get_index('lift',str(entry), year, month, day, '0700')[0]\n",
    "            if stat != None:\n",
    "                station_lift_list.append(stat)\n",
    "                narr_lift_list.append(float(i[6]))\n",
    "        except TypeError:\n",
    "            pass\n"
   ]
  },
  {
   "cell_type": "code",
   "execution_count": 42,
   "metadata": {
    "scrolled": true
   },
   "outputs": [
    {
     "data": {
      "text/plain": [
       "(0.9002493561113782, 0.0)"
      ]
     },
     "execution_count": 42,
     "metadata": {},
     "output_type": "execute_result"
    }
   ],
   "source": [
    "scipy.stats.pearsonr(station_lift_list,narr_lift_list)"
   ]
  },
  {
   "cell_type": "code",
   "execution_count": 60,
   "metadata": {
    "scrolled": false
   },
   "outputs": [
    {
     "data": {
      "image/png": "[encoded data removed]",
      "text/plain": [
       "<Figure size 576x576 with 1 Axes>"
      ]
     },
     "metadata": {
      "needs_background": "light"
     },
     "output_type": "display_data"
    }
   ],
   "source": [
    "fig = plt.figure(figsize=(8,8))\n",
    "plt.scatter(station_lift_list,narr_lift_list, alpha=0.007)\n",
    "plt.xlabel(\"Soundings\")\n",
    "plt.ylabel(\"NARR\")\n",
    "plt.title(\"Comparison of LIFT values\")\n",
    "plt.xlim(-10,40)\n",
    "plt.ylim(-10,40)\n",
    "# x = np.linspace(-20,40)\n",
    "# plt.plot(x,x,color='red')\n",
    "plt.savefig(\"narr_validation_lift.png\",dpi=399)"
   ]
  },
  {
   "cell_type": "code",
   "execution_count": null,
   "metadata": {},
   "outputs": [],
   "source": []
  },
  {
   "cell_type": "markdown",
   "metadata": {
    "heading_collapsed": true
   },
   "source": [
    "### Histogram Test\n",
    "an alternative method to verify NARR"
   ]
  },
  {
   "cell_type": "code",
   "execution_count": 146,
   "metadata": {
    "hidden": true
   },
   "outputs": [],
   "source": [
    "import math"
   ]
  },
  {
   "cell_type": "code",
   "execution_count": 191,
   "metadata": {
    "code_folding": [],
    "hidden": true
   },
   "outputs": [],
   "source": [
    "tmp = []\n",
    "for x in narr_cape_list:\n",
    "    if x != 0.0:\n",
    "        tmp.append(x*1.2)\n",
    "    else:\n",
    "        tmp.append(x)    \n",
    "narr_cape_list=tmp\n",
    "del tmp"
   ]
  },
  {
   "cell_type": "code",
   "execution_count": 192,
   "metadata": {
    "hidden": true,
    "scrolled": true
   },
   "outputs": [
    {
     "data": {
      "text/plain": [
       "Ks_2sampResult(statistic=0.0598608639378741, pvalue=4.3630734913907843e-10)"
      ]
     },
     "execution_count": 192,
     "metadata": {},
     "output_type": "execute_result"
    }
   ],
   "source": [
    "stats.ks_2samp(station_cape_list, narr_cape_list)"
   ]
  },
  {
   "cell_type": "code",
   "execution_count": 193,
   "metadata": {
    "hidden": true
   },
   "outputs": [],
   "source": [
    "non_zero_station_cape_list = [x for x in station_cape_list if x != 0.0]\n",
    "non_zero_narr_cape_list = [x for x in narr_cape_list if x != 0.0]\n"
   ]
  },
  {
   "cell_type": "code",
   "execution_count": 194,
   "metadata": {
    "hidden": true,
    "scrolled": false
   },
   "outputs": [
    {
     "data": {
      "text/plain": [
       "Ks_2sampResult(statistic=0.07522878956416224, pvalue=8.037500798313108e-14)"
      ]
     },
     "execution_count": 194,
     "metadata": {},
     "output_type": "execute_result"
    }
   ],
   "source": [
    "stats.ks_2samp(non_zero_station_cape_list, non_zero_narr_cape_list)"
   ]
  },
  {
   "cell_type": "code",
   "execution_count": 195,
   "metadata": {
    "hidden": true
   },
   "outputs": [
    {
     "data": {
      "image/png": "[encoded data removed]",
      "text/plain": [
       "<Figure size 432x288 with 1 Axes>"
      ]
     },
     "metadata": {
      "needs_background": "light"
     },
     "output_type": "display_data"
    }
   ],
   "source": [
    "hist = np.histogram(narr_cape_list,bins=np.logspace(np.log10(1),np.log10(10000.0)))\n",
    "cnts,bins = (np.array([x/len(narr_cape_list) for x in hist[0]]), hist[1])\n",
    "plt.bar(bins[:-1] + np.diff(bins) / 2, cnts, np.diff(bins),alpha=0.5,label = \"NARR\")\n",
    "hist1 = np.histogram(station_cape_list,bins=np.logspace(np.log10(1),np.log10(10000.0)))\n",
    "cnts1,bins1 = (np.array([x/len(station_cape_list) for x in hist1[0]]), hist1[1])\n",
    "plt.bar(bins1[:-1] + np.diff(bins1) / 2, cnts1, np.diff(bins1), alpha=0.5, label = \"Station\")\n",
    "plt.gca().set_xscale(\"log\")\n",
    "plt.legend()\n",
    "plt.show()"
   ]
  },
  {
   "cell_type": "code",
   "execution_count": 200,
   "metadata": {
    "hidden": true
   },
   "outputs": [
    {
     "data": {
      "image/png": "[encoded data removed]",
      "text/plain": [
       "<Figure size 432x288 with 1 Axes>"
      ]
     },
     "metadata": {
      "needs_background": "light"
     },
     "output_type": "display_data"
    }
   ],
   "source": [
    "# NON ZERO\n",
    "hist = np.histogram(non_zero_narr_cape_list,bins=np.logspace(np.log10(1),np.log10(10000.0)))\n",
    "cnts,bins = (np.array([x/len(non_zero_narr_cape_list) for x in hist[0]]), hist[1])\n",
    "plt.bar(bins[:-1] + np.diff(bins) / 2, cnts, np.diff(bins),alpha=0.5,label = \"NARR\")\n",
    "hist1 = np.histogram(non_zero_station_cape_list,bins=np.logspace(np.log10(1),np.log10(10000.0)))\n",
    "cnts1,bins1 = (np.array([x/len(non_zero_station_cape_list) for x in hist1[0]]), hist1[1])\n",
    "plt.bar(bins1[:-1] + np.diff(bins1) / 2, cnts1, np.diff(bins1), alpha=0.5, label = \"Sounding\")\n",
    "plt.gca().set_xscale(\"log\")\n",
    "plt.legend()\n",
    "plt.title(\"NARR vs Soundings for CAPE\")\n",
    "plt.ylabel(\"relative frequency\")\n",
    "plt.xlabel(\"CAPE value\")\n",
    "plt.savefig(\"caltech_narr_validation.png\",dpi=199)\n",
    "plt.show()"
   ]
  },
  {
   "cell_type": "markdown",
   "metadata": {},
   "source": [
    "## CAPE\n",
    "starting the index analysis with CAPE (using virtual temp correction)"
   ]
  },
  {
   "cell_type": "code",
   "execution_count": 22,
   "metadata": {
    "scrolled": false
   },
   "outputs": [],
   "source": [
    "vcapelist = []\n",
    "for value in cape_events.values():\n",
    "    if type(value) == tuple and value[1] != None:\n",
    "        vcapelist.append(value[1])\n",
    "    else:\n",
    "        pass"
   ]
  },
  {
   "cell_type": "markdown",
   "metadata": {},
   "source": [
    "'boring days', defined here, is the set of control dates/locations"
   ]
  },
  {
   "cell_type": "code",
   "execution_count": 24,
   "metadata": {
    "collapsed": true
   },
   "outputs": [
    {
     "name": "stdout",
     "output_type": "stream",
     "text": [
      "2487\n",
      "72797\n",
      "72694\n",
      "72597\n",
      "72493\n",
      "72393\n",
      "72518\n",
      "74494\n",
      "72681\n",
      "72572\n",
      "72274\n",
      "72476\n",
      "72768\n",
      "72712\n",
      "72764\n",
      "72662\n",
      "72365\n",
      "72265\n",
      "72363\n",
      "72451\n",
      "72562\n",
      "72747\n",
      "72645\n",
      "72456\n",
      "72248\n",
      "72240\n",
      "72261\n",
      "72250\n",
      "72235\n",
      "72340\n",
      "72237\n",
      "72528\n",
      "72520\n",
      "72208\n",
      "72202\n",
      "72317\n",
      "72403\n",
      "72402\n",
      "1104\n"
     ]
    }
   ],
   "source": [
    "variable_list = [x[0:4] for x in event_dates.values()]\n",
    "print(len(variable_list))\n",
    "boring_days = [] #just a list of all station-date combinations that don't appear in the DB at all\n",
    "for station in station_list:\n",
    "    print(station)\n",
    "    for year in range(1973,2018):\n",
    "        #print(year)\n",
    "        for month in range(1,13):\n",
    "            for day in range(1,32):\n",
    "                if (str(station),str(year),str(month).zfill(2),str(day).zfill(2)) not in variable_list:\n",
    "                    try:\n",
    "                        #r_non_full_capelist.append(get_index(\"cape\",station,year,month,day)[0])\n",
    "                        #v_non_full_capelist.append(get_index(\"cape\",station,year,month,day)[1])\n",
    "                        boring_days.append((str(station),str(year),str(month).zfill(2),str(day).zfill(2)))\n",
    "                        #print(boring_days)\n",
    "                    except TypeError:\n",
    "                        pass\n",
    "                else: \n",
    "                    variable_list.remove((str(station),str(year),str(month).zfill(2),str(day).zfill(2)))\n",
    "print(len(variable_list))"
   ]
  },
  {
   "cell_type": "code",
   "execution_count": 25,
   "metadata": {},
   "outputs": [
    {
     "data": {
      "text/plain": [
       "617997"
      ]
     },
     "execution_count": 25,
     "metadata": {},
     "output_type": "execute_result"
    }
   ],
   "source": [
    "len(boring_days)"
   ]
  },
  {
   "cell_type": "code",
   "execution_count": 31,
   "metadata": {},
   "outputs": [],
   "source": [
    "#list of all cape for days w/o events\n",
    "v_non_full_capelist = []\n",
    "\n",
    "for i in boring_days:\n",
    "    cape = get_index(\"cape\",str(i[0]),str(i[1]),str(i[2]),str(i[3]), '0700') #boring days itself doesnt have time, so im defaulting to 7 am here\n",
    "    if cape != None and cape != (None,None):\n",
    "        \n",
    "        v_non_full_capelist.append(cape[1])\n"
   ]
  },
  {
   "cell_type": "code",
   "execution_count": 32,
   "metadata": {
    "scrolled": false
   },
   "outputs": [
    {
     "name": "stdout",
     "output_type": "stream",
     "text": [
      "528865\n"
     ]
    }
   ],
   "source": [
    "print(len(v_non_full_capelist))\n"
   ]
  },
  {
   "cell_type": "code",
   "execution_count": 33,
   "metadata": {},
   "outputs": [],
   "source": [
    "v_non_full_capelist = [x for x in v_non_full_capelist if x != None]"
   ]
  },
  {
   "cell_type": "code",
   "execution_count": 34,
   "metadata": {
    "scrolled": false
   },
   "outputs": [
    {
     "name": "stdout",
     "output_type": "stream",
     "text": [
      "528864\n",
      "2227\n"
     ]
    }
   ],
   "source": [
    "print(len(v_non_full_capelist))\n",
    "print(len(vcapelist))"
   ]
  },
  {
   "cell_type": "code",
   "execution_count": 35,
   "metadata": {
    "hidden": true,
    "scrolled": false
   },
   "outputs": [
    {
     "name": "stdout",
     "output_type": "stream",
     "text": [
      "[46.58, 553.22, 0.0, 0.0, 1548.7, 0.0, 1465.41, 0.0, 0.0, 814.86, 56.67, 0.38, 415.13, 427.11, 919.02, 1847.1, 122.92, 1063.25, 1462.09, 9.44]\n",
      "KstestResult(statistic=0.4387330501809926, pvalue=0.0)\n",
      "MannwhitneyuResult(statistic=310991882.0, pvalue=0.0)\n"
     ]
    }
   ],
   "source": [
    "print(vcapelist[0:20])\n",
    "\n",
    "print(stats.ks_2samp(vcapelist,v_non_full_capelist))\n",
    "print(stats.mannwhitneyu(vcapelist,v_non_full_capelist))"
   ]
  },
  {
   "cell_type": "markdown",
   "metadata": {
    "heading_collapsed": true
   },
   "source": [
    "### Graph"
   ]
  },
  {
   "cell_type": "code",
   "execution_count": 40,
   "metadata": {
    "hidden": true
   },
   "outputs": [],
   "source": [
    "non_zero_vcapelist = [x for x in vcapelist if x != 0.00 ]\n",
    "non_zero_v_non_full_capelist = [x for x in v_non_full_capelist if x != 0.00 ]"
   ]
  },
  {
   "cell_type": "code",
   "execution_count": 41,
   "metadata": {},
   "outputs": [
    {
     "name": "stdout",
     "output_type": "stream",
     "text": [
      "vcapelist: 2227\n",
      "non zero vcapelist: 1573\n",
      "zero fraction: 0.29366861248316123\n"
     ]
    }
   ],
   "source": [
    "print(\"vcapelist: \"+str(len(vcapelist)))\n",
    "print(\"non zero vcapelist: \"+str(len(non_zero_vcapelist)))\n",
    "print(\"zero fraction: \"+str(1-len(non_zero_vcapelist)/len(vcapelist)))"
   ]
  },
  {
   "cell_type": "code",
   "execution_count": 65,
   "metadata": {
    "scrolled": false
   },
   "outputs": [
    {
     "name": "stdout",
     "output_type": "stream",
     "text": [
      "146546\n",
      "1573\n"
     ]
    }
   ],
   "source": [
    "print(len(non_zero_v_non_full_capelist))\n",
    "print(len(non_zero_vcapelist))"
   ]
  },
  {
   "cell_type": "code",
   "execution_count": 68,
   "metadata": {},
   "outputs": [
    {
     "name": "stdout",
     "output_type": "stream",
     "text": [
      "KstestResult(statistic=0.19530674411673613, pvalue=1.7851436857917274e-52)\n"
     ]
    }
   ],
   "source": [
    "print(stats.ks_2samp(non_zero_vcapelist,non_zero_v_non_full_capelist))"
   ]
  },
  {
   "cell_type": "code",
   "execution_count": 67,
   "metadata": {
    "hidden": true
   },
   "outputs": [
    {
     "data": {
      "image/png": "[encoded data removed]",
      "text/plain": [
       "<Figure size 432x288 with 1 Axes>"
      ]
     },
     "metadata": {
      "needs_background": "light"
     },
     "output_type": "display_data"
    },
    {
     "name": "stdout",
     "output_type": "stream",
     "text": [
      "49 49\n",
      "KstestResult(statistic=0.22448979591836735, pvalue=0.16995747466707573)\n",
      "MannwhitneyuResult(statistic=1026.0, pvalue=0.10809833716281125)\n"
     ]
    }
   ],
   "source": [
    "hist = np.histogram(non_zero_vcapelist,bins=np.logspace(np.log10(0.01),np.log10(10000.0)))\n",
    "cnts,bins = (np.array([x/len(non_zero_vcapelist) for x in hist[0]]), hist[1])\n",
    "plt.bar(bins[:-1] + np.diff(bins) / 2, cnts, np.diff(bins),alpha=0.5,label = \"Days w/ Tornado Event\")\n",
    "hist1 = np.histogram(non_zero_v_non_full_capelist,bins=np.logspace(np.log10(0.01),np.log10(10000.0)))\n",
    "cnts1,bins1 = (np.array([x/len(non_zero_v_non_full_capelist) for x in hist1[0]]), hist1[1])\n",
    "plt.bar(bins1[:-1] + np.diff(bins1) / 2, cnts1, np.diff(bins1), alpha=0.5, label = \"Days w/o Event\")\n",
    "plt.gca().set_xscale(\"log\")\n",
    "plt.legend()\n",
    "plt.ylabel(\"Relative Frequency\")\n",
    "plt.xlabel(\"CAPE\")\n",
    "plt.title(\"CAPE\")\n",
    "plt.savefig(\"cape_final_graph\", dpi=399)\n",
    "plt.show()\n",
    "\n",
    "print(len(cnts),len(cnts1))\n",
    "print(stats.ks_2samp(cnts,cnts1))\n",
    "print(stats.mannwhitneyu(cnts,cnts1))"
   ]
  },
  {
   "cell_type": "markdown",
   "metadata": {
    "heading_collapsed": true
   },
   "source": [
    "## CIN"
   ]
  },
  {
   "cell_type": "code",
   "execution_count": 44,
   "metadata": {
    "collapsed": true,
    "hidden": true
   },
   "outputs": [
    {
     "name": "stdout",
     "output_type": "stream",
     "text": [
      "1973\n",
      "1974\n",
      "1975\n",
      "1976\n",
      "1977\n",
      "1978\n",
      "1979\n",
      "1980\n",
      "1981\n",
      "1982\n",
      "1983\n",
      "1984\n",
      "1985\n",
      "1986\n",
      "1987\n",
      "1988\n",
      "1989\n",
      "1990\n",
      "1991\n",
      "1992\n",
      "1993\n",
      "1994\n",
      "1995\n",
      "1996\n",
      "1997\n",
      "1998\n",
      "1999\n",
      "2000\n",
      "2001\n",
      "2002\n",
      "2003\n",
      "2004\n",
      "2005\n",
      "2006\n",
      "2007\n",
      "2008\n",
      "2009\n",
      "2010\n",
      "2011\n",
      "2012\n",
      "2013\n",
      "2014\n",
      "2015\n",
      "2016\n",
      "2017\n"
     ]
    }
   ],
   "source": [
    "cin_events = index_events(\"cin\")"
   ]
  },
  {
   "cell_type": "code",
   "execution_count": 45,
   "metadata": {
    "hidden": true
   },
   "outputs": [
    {
     "name": "stdout",
     "output_type": "stream",
     "text": [
      "[-31.59, 0.0, -51.84, -118.68, -118.68, -8.84, -68.59, -3.11, -25.65, -3.42, -43.69, -43.69, -189.33, -41.5, -1.92, -118.68, -110.95, -39.99, -39.99, 0.0]\n"
     ]
    }
   ],
   "source": [
    "vcinlist = []\n",
    "for value in cin_events.values():\n",
    "    if type(value) == tuple:\n",
    "        vcinlist.append(value[1])\n",
    "    else:\n",
    "        pass\n",
    "vcinlist = [x for x in vcinlist if x != None]\n",
    "print(vcinlist[0:20])\n"
   ]
  },
  {
   "cell_type": "code",
   "execution_count": 46,
   "metadata": {},
   "outputs": [
    {
     "data": {
      "text/plain": [
       "2227"
      ]
     },
     "execution_count": 46,
     "metadata": {},
     "output_type": "execute_result"
    }
   ],
   "source": [
    "len(vcinlist"
   ]
  },
  {
   "cell_type": "code",
   "execution_count": 47,
   "metadata": {
    "hidden": true
   },
   "outputs": [
    {
     "name": "stdout",
     "output_type": "stream",
     "text": [
      "528866 [0.0, -10.52, 0.0, 0.0, 0.0, 0.0, 0.0, 0.0, 0.0, 0.0, 0.0, 0.0, 0.0, 0.0, 0.0, -10.2, -2.95, 0.0, 0.0, 0.0]\n"
     ]
    }
   ],
   "source": [
    "v_non_full_cinlist = []\n",
    "for i in boring_days:\n",
    "    cin = get_index(\"cin\",str(i[0]),str(i[1]),str(i[2]),str(i[3]),'0700')\n",
    "    if cin != None and cin != (None,None):\n",
    "        v_non_full_cinlist.append(cin[1])\n",
    "v_non_full_cinlist = [x for x in v_non_full_cinlist if x != None]\n",
    "print(len(v_non_full_cinlist), v_non_full_cinlist[0:20])"
   ]
  },
  {
   "cell_type": "code",
   "execution_count": 48,
   "metadata": {
    "hidden": true
   },
   "outputs": [],
   "source": [
    "absvcinlist = [abs(x) for x in vcinlist]\n",
    "non_zero_absvcinlist = [x for x in absvcinlist if x != 0.0]\n",
    "\n",
    "absv_non_full_cinlist = [abs(x) for x in v_non_full_cinlist]\n",
    "non_zero_absv_non_full_cinlist = [x for x in absv_non_full_cinlist if x != 0.0]\n"
   ]
  },
  {
   "cell_type": "code",
   "execution_count": 50,
   "metadata": {
    "hidden": true
   },
   "outputs": [
    {
     "name": "stdout",
     "output_type": "stream",
     "text": [
      "virtual cin events zero ratio is 0.33812303547373146\n",
      "virtual cin boring zero ratio is 0.2628472996940624\n"
     ]
    }
   ],
   "source": [
    "print(\"virtual cin events zero ratio is \"+ str((1-len(non_zero_absvcinlist)/len(absvcinlist))))\n",
    "print(\"virtual cin boring zero ratio is \"+ str(len(non_zero_absv_non_full_cinlist)/len(absv_non_full_cinlist)))"
   ]
  },
  {
   "cell_type": "code",
   "execution_count": 51,
   "metadata": {
    "hidden": true,
    "scrolled": false
   },
   "outputs": [
    {
     "name": "stdout",
     "output_type": "stream",
     "text": [
      "KstestResult(statistic=0.39902966483220614, pvalue=3.7035e-319)\n",
      "KstestResult(statistic=0.054599854152869276, pvalue=0.00032015423490639047)\n"
     ]
    }
   ],
   "source": [
    "print(stats.ks_2samp(absvcinlist, absv_non_full_cinlist))\n",
    "print(stats.ks_2samp(non_zero_absvcinlist, non_zero_absv_non_full_cinlist))"
   ]
  },
  {
   "cell_type": "code",
   "execution_count": 69,
   "metadata": {},
   "outputs": [
    {
     "name": "stdout",
     "output_type": "stream",
     "text": [
      "2227\n",
      "528866\n"
     ]
    }
   ],
   "source": [
    "print(len(absvcinlist))\n",
    "print(len(absv_non_full_cinlist))"
   ]
  },
  {
   "cell_type": "code",
   "execution_count": 70,
   "metadata": {},
   "outputs": [
    {
     "name": "stdout",
     "output_type": "stream",
     "text": [
      "1474\n",
      "139011\n"
     ]
    }
   ],
   "source": [
    "print(len(non_zero_absvcinlist))\n",
    "print(len(non_zero_absv_non_full_cinlist))"
   ]
  },
  {
   "cell_type": "markdown",
   "metadata": {
    "hidden": true
   },
   "source": [
    "### Graphs"
   ]
  },
  {
   "cell_type": "code",
   "execution_count": 77,
   "metadata": {
    "hidden": true,
    "scrolled": true
   },
   "outputs": [
    {
     "data": {
      "text/plain": [
       "KstestResult(statistic=0.1836734693877551, pvalue=0.3833868439543752)"
      ]
     },
     "execution_count": 77,
     "metadata": {},
     "output_type": "execute_result"
    },
    {
     "data": {
      "image/png": "[encoded data removed]",
      "text/plain": [
       "<Figure size 432x288 with 1 Axes>"
      ]
     },
     "metadata": {
      "needs_background": "light"
     },
     "output_type": "display_data"
    }
   ],
   "source": [
    "hist = np.histogram(non_zero_absvcinlist,bins=np.logspace(np.log10(0.01),np.log10(10000.0)))\n",
    "cnts,bins = (np.array([x/len(non_zero_absvcinlist) for x in hist[0]]), hist[1])\n",
    "plt.bar(bins[:-1] + np.diff(bins) / 2, cnts, np.diff(bins),alpha=0.5,label = \"Days w/ Tornado Event\")\n",
    "hist1 = np.histogram(non_zero_absv_non_full_cinlist,bins=np.logspace(np.log10(0.01),np.log10(10000.0)))\n",
    "cnts1,bins1 = (np.array([x/len(non_zero_absv_non_full_cinlist) for x in hist1[0]]), hist1[1])\n",
    "plt.bar(bins1[:-1] + np.diff(bins1) / 2, cnts1, np.diff(bins1), alpha=0.5, label = \"Days w/o Event\")\n",
    "plt.gca().set_xscale(\"log\")\n",
    "plt.legend()\n",
    "plt.ylabel(\"Relative Frequency\")\n",
    "plt.xlabel(\"CIN Abs. Val.\")\n",
    "plt.title(\"CIN (Absolute Value)\")\n",
    "plt.savefig(\"cin_final_graph\", dpi=399)\n",
    "#plt.show()\n",
    "\n",
    "stats.ks_2samp(cnts,cnts1)"
   ]
  },
  {
   "cell_type": "markdown",
   "metadata": {
    "heading_collapsed": true
   },
   "source": [
    "## Bulk Richardson"
   ]
  },
  {
   "cell_type": "code",
   "execution_count": 55,
   "metadata": {
    "collapsed": true,
    "hidden": true
   },
   "outputs": [
    {
     "name": "stdout",
     "output_type": "stream",
     "text": [
      "1973\n",
      "1974\n",
      "1975\n",
      "1976\n",
      "1977\n",
      "1978\n",
      "1979\n",
      "1980\n",
      "1981\n",
      "1982\n",
      "1983\n",
      "1984\n",
      "1985\n",
      "1986\n",
      "1987\n",
      "1988\n",
      "1989\n",
      "1990\n",
      "1991\n",
      "1992\n",
      "1993\n",
      "1994\n",
      "1995\n",
      "1996\n",
      "1997\n",
      "1998\n",
      "1999\n",
      "2000\n",
      "2001\n",
      "2002\n",
      "2003\n",
      "2004\n",
      "2005\n",
      "2006\n",
      "2007\n",
      "2008\n",
      "2009\n",
      "2010\n",
      "2011\n",
      "2012\n",
      "2013\n",
      "2014\n",
      "2015\n",
      "2016\n",
      "2017\n"
     ]
    }
   ],
   "source": [
    "bulk_rich_events = index_events(\"brn\")"
   ]
  },
  {
   "cell_type": "code",
   "execution_count": 56,
   "metadata": {
    "hidden": true
   },
   "outputs": [
    {
     "data": {
      "text/plain": [
       "2487"
      ]
     },
     "execution_count": 56,
     "metadata": {},
     "output_type": "execute_result"
    }
   ],
   "source": [
    "len(bulk_rich_events)"
   ]
  },
  {
   "cell_type": "code",
   "execution_count": 57,
   "metadata": {
    "hidden": true
   },
   "outputs": [],
   "source": [
    "vbrlist = []\n",
    "for value in bulk_rich_events.values():\n",
    "    if type(value) == tuple:\n",
    "        vbrlist.append(value[1])\n",
    "    else:\n",
    "        pass\n",
    "vbrlist = [x for x in vbrlist if x != float('inf') and x != float('-inf') and x != None]"
   ]
  },
  {
   "cell_type": "code",
   "execution_count": 59,
   "metadata": {
    "hidden": true
   },
   "outputs": [
    {
     "name": "stdout",
     "output_type": "stream",
     "text": [
      "523451 [0.0, 0.04, 0.0, 0.0, 0.0, 0.0, 0.0, 0.0, 0.0, 0.0, 0.0, 0.0, 0.0, 0.0, 0.0, 0.95, 1.3, 0.0, 0.0, 0.0]\n"
     ]
    }
   ],
   "source": [
    "v_non_full_brlist = []\n",
    "for i in boring_days:\n",
    "    br = get_index(\"brn\",str(i[0]),str(i[1]),str(i[2]),str(i[3]),'0700')\n",
    "    if br != None and br != (None,None):\n",
    "        v_non_full_brlist.append(br[1])\n",
    "\n",
    "v_non_full_brlist = [x for x in v_non_full_brlist if x != None]\n",
    "print(len(v_non_full_brlist), v_non_full_brlist[0:20])"
   ]
  },
  {
   "cell_type": "code",
   "execution_count": 61,
   "metadata": {
    "hidden": true
   },
   "outputs": [],
   "source": [
    "non_zero_vbrlist = [x for x in vbrlist if x != 0.0]\n",
    "non_zero_v_non_full_brlist = [x for x in v_non_full_brlist if x != 0.0]"
   ]
  },
  {
   "cell_type": "code",
   "execution_count": 63,
   "metadata": {
    "hidden": true
   },
   "outputs": [
    {
     "name": "stdout",
     "output_type": "stream",
     "text": [
      "virtual brn events zero ratio is 0.3011722272317403\n",
      "virtual brn boring zero ratio is 0.269029956958722\n"
     ]
    }
   ],
   "source": [
    "print(\"virtual brn events zero ratio is \"+ str((1-len(non_zero_vbrlist)/len(vbrlist))))\n",
    "print(\"virtual brn boring zero ratio is \"+ str(len(non_zero_v_non_full_brlist)/len(v_non_full_brlist)))"
   ]
  },
  {
   "cell_type": "code",
   "execution_count": 72,
   "metadata": {},
   "outputs": [
    {
     "name": "stdout",
     "output_type": "stream",
     "text": [
      "2218\n",
      "523451\n"
     ]
    }
   ],
   "source": [
    "print(len(vbrlist))\n",
    "print(len(v_non_full_brlist))"
   ]
  },
  {
   "cell_type": "code",
   "execution_count": 73,
   "metadata": {},
   "outputs": [
    {
     "name": "stdout",
     "output_type": "stream",
     "text": [
      "1550\n",
      "140824\n"
     ]
    }
   ],
   "source": [
    "print(len(non_zero_vbrlist))\n",
    "print(len(non_zero_v_non_full_brlist))"
   ]
  },
  {
   "cell_type": "code",
   "execution_count": 64,
   "metadata": {
    "hidden": true,
    "scrolled": true
   },
   "outputs": [
    {
     "name": "stdout",
     "output_type": "stream",
     "text": [
      "KstestResult(statistic=0.4335096425572247, pvalue=0.0)\n",
      "KstestResult(statistic=0.1332093686376773, pvalue=3.497002745892832e-24)\n"
     ]
    }
   ],
   "source": [
    "print(stats.ks_2samp(vbrlist, v_non_full_brlist))\n",
    "print(stats.ks_2samp(non_zero_vbrlist, non_zero_v_non_full_brlist))"
   ]
  },
  {
   "cell_type": "markdown",
   "metadata": {
    "hidden": true
   },
   "source": [
    "### Graphs"
   ]
  },
  {
   "cell_type": "code",
   "execution_count": 79,
   "metadata": {
    "hidden": true,
    "scrolled": true
   },
   "outputs": [
    {
     "data": {
      "text/plain": [
       "KstestResult(statistic=0.30612244897959184, pvalue=0.019754137896767714)"
      ]
     },
     "execution_count": 79,
     "metadata": {},
     "output_type": "execute_result"
    },
    {
     "data": {
      "image/png": "[encoded data removed]",
      "text/plain": [
       "<Figure size 432x288 with 1 Axes>"
      ]
     },
     "metadata": {
      "needs_background": "light"
     },
     "output_type": "display_data"
    }
   ],
   "source": [
    "hist = np.histogram(non_zero_vbrlist,bins=np.logspace(np.log10(0.01),np.log10(10000.0)),range=(0.0,10000.0))\n",
    "cnts,bins = (np.array([x/len(non_zero_vbrlist) for x in hist[0]]), hist[1])\n",
    "plt.bar(bins[:-1] + np.diff(bins) / 2, cnts, np.diff(bins),alpha=0.5,label = \"Days w/ Tornado Event\")\n",
    "hist1 = np.histogram(non_zero_v_non_full_brlist,bins=np.logspace(np.log10(0.01),np.log10(10000.0)),range=(0.0,10000.0))\n",
    "cnts1,bins1 = (np.array([x/len(non_zero_v_non_full_brlist) for x in hist1[0]]), hist1[1])\n",
    "plt.bar(bins1[:-1] + np.diff(bins1) / 2, cnts1, np.diff(bins1), alpha=0.5, label = \"Days w/o Event\")\n",
    "plt.gca().set_xscale(\"log\")\n",
    "plt.legend()\n",
    "plt.ylabel(\"Relative Frequency\")\n",
    "plt.xlabel(\"BRN\")\n",
    "plt.title(\"Bulk Richardson Number\")\n",
    "plt.savefig(\"brn_final_graph\", dpi=399)\n",
    "#plt.show()\n",
    "\n",
    "stats.ks_2samp(cnts,cnts1)"
   ]
  },
  {
   "cell_type": "markdown",
   "metadata": {
    "heading_collapsed": true
   },
   "source": [
    "## box plots\n",
    "an alternative way of looking at the data by splitting tornadoes by severity - ultimately there were too few data points for this to be useful"
   ]
  },
  {
   "cell_type": "code",
   "execution_count": 203,
   "metadata": {
    "hidden": true
   },
   "outputs": [],
   "source": [
    "#let's go through the four categories one by one, starting with calm days\n",
    "\n",
    "calm_days = [(x[0],x[1],x[2],x[3],'0700') for x in boring_days] # len 619380... nope. 60665"
   ]
  },
  {
   "cell_type": "code",
   "execution_count": 204,
   "metadata": {
    "hidden": true,
    "scrolled": true
   },
   "outputs": [
    {
     "data": {
      "text/plain": [
       "606659"
      ]
     },
     "execution_count": 204,
     "metadata": {},
     "output_type": "execute_result"
    }
   ],
   "source": [
    "len(calm_days)"
   ]
  },
  {
   "cell_type": "code",
   "execution_count": 198,
   "metadata": {
    "code_folding": [],
    "hidden": true
   },
   "outputs": [],
   "source": [
    "def thunderhail_dates(): \n",
    "    event_date_dic = {} #dictionary of event_id:date tuple (four values) for it\n",
    "    for year in storm_dic.keys():\n",
    "        for event in storm_dic[year][1:]: # event means line in csv\n",
    "            try:\n",
    "                location = ()\t#location should be a tuple\n",
    "                info = [] #format: [station, year, month, day]\n",
    "                if event[12] == \"Thunderstorm\" or event[12] == \"Hail\":\n",
    "                    if int(event[2])>600: #if it happens after 6 am (avg for 12Z)\n",
    "                        if event[44] and event[45]:\t#if this event has lat/long\n",
    "                            for station in station_loc_dic:\t#try each station and see if it's close enought to one\n",
    "                                if abs(float(event[44]) - float(station_loc_dic[station][0])) < limit_lat and abs(float(event[45]) - float(station_loc_dic[station][1])) < limit_long:\n",
    "                                    location = (float(event[44]),float(event[45]))\n",
    "                                    info.append(station) # --> doesnt end up being used anywhere...?\n",
    "                                    info.append(event[0][:4]) #year\n",
    "                                    info.append(event[0][4:]) #month\n",
    "                                    info.append(event[1].zfill(2))\n",
    "                                    info.append(event[2]) #time\n",
    "                                    break \n",
    "                        else:\t#if it doesnt have lat/long, do the whole thing with county names\n",
    "                            county = (event[15].title(),state_abbrv(event[8].title()))\n",
    "                            if county in station_county_dic.values():\n",
    "                                location = county_loc_dic[county]\n",
    "                                info.append(station_county_dic[station][0])\t#how do I get the station this is at????\n",
    "                                info.append(event[0][:4]) #year\n",
    "                                info.append(event[0][4:]) #month\n",
    "                                info.append(event[1].zfill(2)) #day\n",
    "                                info.append(event[2]) #time\n",
    "                        if info != []:\n",
    "                            event_date_dic[event[7]]=tuple(info)\n",
    "                            #print(info)\n",
    "            except KeyError:\n",
    "                pass\n",
    "            except ValueError:\n",
    "                pass\n",
    "    return event_date_dic"
   ]
  },
  {
   "cell_type": "code",
   "execution_count": 199,
   "metadata": {
    "hidden": true
   },
   "outputs": [],
   "source": [
    "th_dates = thunderhail_dates() #might wanna check it but it looks legit"
   ]
  },
  {
   "cell_type": "code",
   "execution_count": 200,
   "metadata": {
    "hidden": true
   },
   "outputs": [
    {
     "data": {
      "text/plain": [
       "18474"
      ]
     },
     "execution_count": 200,
     "metadata": {},
     "output_type": "execute_result"
    }
   ],
   "source": [
    "len(th_dates)"
   ]
  },
  {
   "cell_type": "code",
   "execution_count": null,
   "metadata": {
    "hidden": true
   },
   "outputs": [],
   "source": []
  },
  {
   "cell_type": "code",
   "execution_count": 238,
   "metadata": {
    "code_folding": [
     0
    ],
    "hidden": true
   },
   "outputs": [],
   "source": [
    "def tornado_dates(): \n",
    "    weak_dic = {} #dictionary of event_id:date tuple (four values) for it\n",
    "    strong_dic = {}\n",
    "    intense_dic = {}\n",
    "    unsorted_dic = {}\n",
    "    for year in storm_dic.keys():\n",
    "        for event in storm_dic[year][1:]: # event means line in csv\n",
    "            try:\n",
    "                location = ()\t#location should be a tuple\n",
    "                info = [] #format: [station, year, month, day, time]\n",
    "                if event[12] == \"Tornado\":\n",
    "                    if int(event[2])>600: #if it happens after 6 am (avg for 12Z)\n",
    "                        if event[44] and event[45]:\t#if this event has lat/long\n",
    "                            for station in station_loc_dic:\t#try each station and see if it's close enought to one\n",
    "                                if abs(float(event[44]) - float(station_loc_dic[station][0])) < limit_lat and abs(float(event[45]) - float(station_loc_dic[station][1])) < limit_long:\n",
    "                                    location = (float(event[44]),float(event[45]))\n",
    "                                    info.append(station) # --> doesnt end up being used anywhere...?\n",
    "                                    info.append(event[0][:4]) #year\n",
    "                                    info.append(event[0][4:]) #month\n",
    "                                    info.append(event[1].zfill(2)) #day\n",
    "                                    info.append(event[2]) #time\n",
    "                                    info.append(event[31]) #fscale\n",
    "                                    break \n",
    "                        else:\t#if it doesnt have lat/long, do the whole thing with county names\n",
    "                            county = (event[15].title(),state_abbrv(event[8].title()))\n",
    "                            if county in station_county_dic.values():\n",
    "                                location = county_loc_dic[county]\n",
    "                                info.append(station_county_dic[station][0])\t#how do I get the station this is at????\n",
    "                                info.append(event[0][:4]) #year\n",
    "                                info.append(event[0][4:]) #month\n",
    "                                info.append(event[1].zfill(2)) #day\n",
    "                                info.append(event[2]) #time\n",
    "                                info.append(event[31]) #fscale\n",
    "                        if info != []:\n",
    "                            if 'F0' in info[5] or 'F1' in info[5]:\n",
    "                                weak_dic[event[7]]=tuple(info)\n",
    "                            elif 'F2' in info[5] or 'F3' in info[5]:\n",
    "                                strong_dic[event[7]]=tuple(info)\n",
    "                            elif 'F4' in info[5] or 'F5' in info[5]:\n",
    "                                intense_dic[event[7]]=tuple(info)\n",
    "                            else:\n",
    "                                unsorted_dic[event[7]]=tuple(info)\n",
    "                            \n",
    "            except KeyError:\n",
    "                print('key')\n",
    "            except ValueError:\n",
    "                print('value')\n",
    "    return weak_dic, strong_dic, intense_dic, unsorted_dic"
   ]
  },
  {
   "cell_type": "code",
   "execution_count": 239,
   "metadata": {
    "hidden": true
   },
   "outputs": [
    {
     "name": "stdout",
     "output_type": "stream",
     "text": [
      "key\n",
      "key\n",
      "key\n",
      "key\n",
      "key\n",
      "key\n",
      "key\n",
      "key\n",
      "key\n",
      "key\n"
     ]
    }
   ],
   "source": [
    "weak_dic, strong_dic, intense_dic, unsorted_dic = tornado_dates()"
   ]
  },
  {
   "cell_type": "code",
   "execution_count": 240,
   "metadata": {
    "hidden": true
   },
   "outputs": [
    {
     "name": "stdout",
     "output_type": "stream",
     "text": [
      "1906\n",
      "381\n",
      "27\n",
      "14\n"
     ]
    }
   ],
   "source": [
    "print(len(weak_dic))\n",
    "print(len(strong_dic))\n",
    "print(len(intense_dic))\n",
    "print(len(unsorted_dic)) #total = 2328"
   ]
  },
  {
   "cell_type": "markdown",
   "metadata": {
    "heading_collapsed": true,
    "hidden": true
   },
   "source": [
    "### CAPE"
   ]
  },
  {
   "cell_type": "code",
   "execution_count": 152,
   "metadata": {
    "collapsed": true,
    "hidden": true
   },
   "outputs": [
    {
     "ename": "KeyboardInterrupt",
     "evalue": "",
     "output_type": "error",
     "traceback": [
      "\u001b[0;31m---------------------------------------------------------------------------\u001b[0m",
      "\u001b[0;31mKeyboardInterrupt\u001b[0m                         Traceback (most recent call last)",
      "\u001b[0;32m<ipython-input-152-0432e9454d16>\u001b[0m in \u001b[0;36m<module>\u001b[0;34m\u001b[0m\n\u001b[1;32m      1\u001b[0m \u001b[0md1\u001b[0m \u001b[0;34m=\u001b[0m \u001b[0;34m[\u001b[0m\u001b[0;34m]\u001b[0m\u001b[0;34m\u001b[0m\u001b[0;34m\u001b[0m\u001b[0m\n\u001b[1;32m      2\u001b[0m \u001b[0;32mfor\u001b[0m \u001b[0mi\u001b[0m \u001b[0;32min\u001b[0m \u001b[0mcalm_days\u001b[0m\u001b[0;34m:\u001b[0m\u001b[0;34m\u001b[0m\u001b[0;34m\u001b[0m\u001b[0m\n\u001b[0;32m----> 3\u001b[0;31m     \u001b[0md1\u001b[0m\u001b[0;34m.\u001b[0m\u001b[0mappend\u001b[0m\u001b[0;34m(\u001b[0m\u001b[0mget_index\u001b[0m\u001b[0;34m(\u001b[0m\u001b[0;34m'cape'\u001b[0m\u001b[0;34m,\u001b[0m\u001b[0mi\u001b[0m\u001b[0;34m[\u001b[0m\u001b[0;36m0\u001b[0m\u001b[0;34m]\u001b[0m\u001b[0;34m,\u001b[0m\u001b[0mi\u001b[0m\u001b[0;34m[\u001b[0m\u001b[0;36m1\u001b[0m\u001b[0;34m]\u001b[0m\u001b[0;34m,\u001b[0m\u001b[0mi\u001b[0m\u001b[0;34m[\u001b[0m\u001b[0;36m2\u001b[0m\u001b[0;34m]\u001b[0m\u001b[0;34m,\u001b[0m\u001b[0mi\u001b[0m\u001b[0;34m[\u001b[0m\u001b[0;36m3\u001b[0m\u001b[0;34m]\u001b[0m\u001b[0;34m,\u001b[0m\u001b[0;34m'0700'\u001b[0m\u001b[0;34m)\u001b[0m\u001b[0;34m)\u001b[0m\u001b[0;34m\u001b[0m\u001b[0;34m\u001b[0m\u001b[0m\n\u001b[0m",
      "\u001b[0;32m<ipython-input-4-d8b63bbf009b>\u001b[0m in \u001b[0;36mget_index\u001b[0;34m(index, station, year, month, day, time)\u001b[0m\n\u001b[1;32m     34\u001b[0m         \u001b[0;32mif\u001b[0m \u001b[0mint\u001b[0m\u001b[0;34m(\u001b[0m\u001b[0mtime\u001b[0m\u001b[0;34m)\u001b[0m\u001b[0;34m<\u001b[0m\u001b[0;36m1800\u001b[0m\u001b[0;34m:\u001b[0m \u001b[0;31m#use 12Z\u001b[0m\u001b[0;34m\u001b[0m\u001b[0;34m\u001b[0m\u001b[0m\n\u001b[1;32m     35\u001b[0m             \u001b[0mobj\u001b[0m \u001b[0;34m=\u001b[0m \u001b[0mopen\u001b[0m\u001b[0;34m(\u001b[0m\u001b[0;34m\"./data2/data/{}_{}_{}_{}.txt\"\u001b[0m\u001b[0;34m.\u001b[0m\u001b[0mformat\u001b[0m\u001b[0;34m(\u001b[0m\u001b[0mstr\u001b[0m\u001b[0;34m(\u001b[0m\u001b[0mstation\u001b[0m\u001b[0;34m)\u001b[0m\u001b[0;34m,\u001b[0m\u001b[0mstr\u001b[0m\u001b[0;34m(\u001b[0m\u001b[0myear\u001b[0m\u001b[0;34m)\u001b[0m\u001b[0;34m,\u001b[0m\u001b[0mstr\u001b[0m\u001b[0;34m(\u001b[0m\u001b[0mmonth\u001b[0m\u001b[0;34m)\u001b[0m\u001b[0;34m.\u001b[0m\u001b[0mzfill\u001b[0m\u001b[0;34m(\u001b[0m\u001b[0;36m2\u001b[0m\u001b[0;34m)\u001b[0m\u001b[0;34m,\u001b[0m\u001b[0mstr\u001b[0m\u001b[0;34m(\u001b[0m\u001b[0mday\u001b[0m\u001b[0;34m)\u001b[0m\u001b[0;34m.\u001b[0m\u001b[0mzfill\u001b[0m\u001b[0;34m(\u001b[0m\u001b[0;36m2\u001b[0m\u001b[0;34m)\u001b[0m\u001b[0;34m)\u001b[0m\u001b[0;34m,\u001b[0m \u001b[0;34m\"r\"\u001b[0m\u001b[0;34m)\u001b[0m\u001b[0;34m\u001b[0m\u001b[0;34m\u001b[0m\u001b[0m\n\u001b[0;32m---> 36\u001b[0;31m             \u001b[0mfirst_data\u001b[0m \u001b[0;34m=\u001b[0m \u001b[0;34m[\u001b[0m\u001b[0mline\u001b[0m \u001b[0;32mfor\u001b[0m \u001b[0mline\u001b[0m \u001b[0;32min\u001b[0m \u001b[0mobj\u001b[0m\u001b[0;34m]\u001b[0m\u001b[0;34m\u001b[0m\u001b[0;34m\u001b[0m\u001b[0m\n\u001b[0m\u001b[1;32m     37\u001b[0m         \u001b[0;32melse\u001b[0m\u001b[0;34m:\u001b[0m \u001b[0;31m#use 00Z\u001b[0m\u001b[0;34m\u001b[0m\u001b[0;34m\u001b[0m\u001b[0m\n\u001b[1;32m     38\u001b[0m             \u001b[0mobj\u001b[0m \u001b[0;34m=\u001b[0m \u001b[0mopen\u001b[0m\u001b[0;34m(\u001b[0m\u001b[0;34m\"./data3/data/{}_{}_{}_{}.txt\"\u001b[0m\u001b[0;34m.\u001b[0m\u001b[0mformat\u001b[0m\u001b[0;34m(\u001b[0m\u001b[0mstr\u001b[0m\u001b[0;34m(\u001b[0m\u001b[0mstation\u001b[0m\u001b[0;34m)\u001b[0m\u001b[0;34m,\u001b[0m\u001b[0mstr\u001b[0m\u001b[0;34m(\u001b[0m\u001b[0myear\u001b[0m\u001b[0;34m)\u001b[0m\u001b[0;34m,\u001b[0m\u001b[0mstr\u001b[0m\u001b[0;34m(\u001b[0m\u001b[0mmonth\u001b[0m\u001b[0;34m)\u001b[0m\u001b[0;34m.\u001b[0m\u001b[0mzfill\u001b[0m\u001b[0;34m(\u001b[0m\u001b[0;36m2\u001b[0m\u001b[0;34m)\u001b[0m\u001b[0;34m,\u001b[0m\u001b[0mstr\u001b[0m\u001b[0;34m(\u001b[0m\u001b[0mday\u001b[0m\u001b[0;34m)\u001b[0m\u001b[0;34m.\u001b[0m\u001b[0mzfill\u001b[0m\u001b[0;34m(\u001b[0m\u001b[0;36m2\u001b[0m\u001b[0;34m)\u001b[0m\u001b[0;34m)\u001b[0m\u001b[0;34m,\u001b[0m \u001b[0;34m\"r\"\u001b[0m\u001b[0;34m)\u001b[0m\u001b[0;34m\u001b[0m\u001b[0;34m\u001b[0m\u001b[0m\n",
      "\u001b[0;32m<ipython-input-4-d8b63bbf009b>\u001b[0m in \u001b[0;36m<listcomp>\u001b[0;34m(.0)\u001b[0m\n\u001b[1;32m     34\u001b[0m         \u001b[0;32mif\u001b[0m \u001b[0mint\u001b[0m\u001b[0;34m(\u001b[0m\u001b[0mtime\u001b[0m\u001b[0;34m)\u001b[0m\u001b[0;34m<\u001b[0m\u001b[0;36m1800\u001b[0m\u001b[0;34m:\u001b[0m \u001b[0;31m#use 12Z\u001b[0m\u001b[0;34m\u001b[0m\u001b[0;34m\u001b[0m\u001b[0m\n\u001b[1;32m     35\u001b[0m             \u001b[0mobj\u001b[0m \u001b[0;34m=\u001b[0m \u001b[0mopen\u001b[0m\u001b[0;34m(\u001b[0m\u001b[0;34m\"./data2/data/{}_{}_{}_{}.txt\"\u001b[0m\u001b[0;34m.\u001b[0m\u001b[0mformat\u001b[0m\u001b[0;34m(\u001b[0m\u001b[0mstr\u001b[0m\u001b[0;34m(\u001b[0m\u001b[0mstation\u001b[0m\u001b[0;34m)\u001b[0m\u001b[0;34m,\u001b[0m\u001b[0mstr\u001b[0m\u001b[0;34m(\u001b[0m\u001b[0myear\u001b[0m\u001b[0;34m)\u001b[0m\u001b[0;34m,\u001b[0m\u001b[0mstr\u001b[0m\u001b[0;34m(\u001b[0m\u001b[0mmonth\u001b[0m\u001b[0;34m)\u001b[0m\u001b[0;34m.\u001b[0m\u001b[0mzfill\u001b[0m\u001b[0;34m(\u001b[0m\u001b[0;36m2\u001b[0m\u001b[0;34m)\u001b[0m\u001b[0;34m,\u001b[0m\u001b[0mstr\u001b[0m\u001b[0;34m(\u001b[0m\u001b[0mday\u001b[0m\u001b[0;34m)\u001b[0m\u001b[0;34m.\u001b[0m\u001b[0mzfill\u001b[0m\u001b[0;34m(\u001b[0m\u001b[0;36m2\u001b[0m\u001b[0;34m)\u001b[0m\u001b[0;34m)\u001b[0m\u001b[0;34m,\u001b[0m \u001b[0;34m\"r\"\u001b[0m\u001b[0;34m)\u001b[0m\u001b[0;34m\u001b[0m\u001b[0;34m\u001b[0m\u001b[0m\n\u001b[0;32m---> 36\u001b[0;31m             \u001b[0mfirst_data\u001b[0m \u001b[0;34m=\u001b[0m \u001b[0;34m[\u001b[0m\u001b[0mline\u001b[0m \u001b[0;32mfor\u001b[0m \u001b[0mline\u001b[0m \u001b[0;32min\u001b[0m \u001b[0mobj\u001b[0m\u001b[0;34m]\u001b[0m\u001b[0;34m\u001b[0m\u001b[0;34m\u001b[0m\u001b[0m\n\u001b[0m\u001b[1;32m     37\u001b[0m         \u001b[0;32melse\u001b[0m\u001b[0;34m:\u001b[0m \u001b[0;31m#use 00Z\u001b[0m\u001b[0;34m\u001b[0m\u001b[0;34m\u001b[0m\u001b[0m\n\u001b[1;32m     38\u001b[0m             \u001b[0mobj\u001b[0m \u001b[0;34m=\u001b[0m \u001b[0mopen\u001b[0m\u001b[0;34m(\u001b[0m\u001b[0;34m\"./data3/data/{}_{}_{}_{}.txt\"\u001b[0m\u001b[0;34m.\u001b[0m\u001b[0mformat\u001b[0m\u001b[0;34m(\u001b[0m\u001b[0mstr\u001b[0m\u001b[0;34m(\u001b[0m\u001b[0mstation\u001b[0m\u001b[0;34m)\u001b[0m\u001b[0;34m,\u001b[0m\u001b[0mstr\u001b[0m\u001b[0;34m(\u001b[0m\u001b[0myear\u001b[0m\u001b[0;34m)\u001b[0m\u001b[0;34m,\u001b[0m\u001b[0mstr\u001b[0m\u001b[0;34m(\u001b[0m\u001b[0mmonth\u001b[0m\u001b[0;34m)\u001b[0m\u001b[0;34m.\u001b[0m\u001b[0mzfill\u001b[0m\u001b[0;34m(\u001b[0m\u001b[0;36m2\u001b[0m\u001b[0;34m)\u001b[0m\u001b[0;34m,\u001b[0m\u001b[0mstr\u001b[0m\u001b[0;34m(\u001b[0m\u001b[0mday\u001b[0m\u001b[0;34m)\u001b[0m\u001b[0;34m.\u001b[0m\u001b[0mzfill\u001b[0m\u001b[0;34m(\u001b[0m\u001b[0;36m2\u001b[0m\u001b[0;34m)\u001b[0m\u001b[0;34m)\u001b[0m\u001b[0;34m,\u001b[0m \u001b[0;34m\"r\"\u001b[0m\u001b[0;34m)\u001b[0m\u001b[0;34m\u001b[0m\u001b[0;34m\u001b[0m\u001b[0m\n",
      "\u001b[0;32m~/anaconda3/lib/python3.6/codecs.py\u001b[0m in \u001b[0;36mdecode\u001b[0;34m(self, input, final)\u001b[0m\n\u001b[1;32m    319\u001b[0m         \u001b[0;31m# decode input (taking the buffer into account)\u001b[0m\u001b[0;34m\u001b[0m\u001b[0;34m\u001b[0m\u001b[0;34m\u001b[0m\u001b[0m\n\u001b[1;32m    320\u001b[0m         \u001b[0mdata\u001b[0m \u001b[0;34m=\u001b[0m \u001b[0mself\u001b[0m\u001b[0;34m.\u001b[0m\u001b[0mbuffer\u001b[0m \u001b[0;34m+\u001b[0m \u001b[0minput\u001b[0m\u001b[0;34m\u001b[0m\u001b[0;34m\u001b[0m\u001b[0m\n\u001b[0;32m--> 321\u001b[0;31m         \u001b[0;34m(\u001b[0m\u001b[0mresult\u001b[0m\u001b[0;34m,\u001b[0m \u001b[0mconsumed\u001b[0m\u001b[0;34m)\u001b[0m \u001b[0;34m=\u001b[0m \u001b[0mself\u001b[0m\u001b[0;34m.\u001b[0m\u001b[0m_buffer_decode\u001b[0m\u001b[0;34m(\u001b[0m\u001b[0mdata\u001b[0m\u001b[0;34m,\u001b[0m \u001b[0mself\u001b[0m\u001b[0;34m.\u001b[0m\u001b[0merrors\u001b[0m\u001b[0;34m,\u001b[0m \u001b[0mfinal\u001b[0m\u001b[0;34m)\u001b[0m\u001b[0;34m\u001b[0m\u001b[0;34m\u001b[0m\u001b[0m\n\u001b[0m\u001b[1;32m    322\u001b[0m         \u001b[0;31m# keep undecoded input until the next call\u001b[0m\u001b[0;34m\u001b[0m\u001b[0;34m\u001b[0m\u001b[0;34m\u001b[0m\u001b[0m\n\u001b[1;32m    323\u001b[0m         \u001b[0mself\u001b[0m\u001b[0;34m.\u001b[0m\u001b[0mbuffer\u001b[0m \u001b[0;34m=\u001b[0m \u001b[0mdata\u001b[0m\u001b[0;34m[\u001b[0m\u001b[0mconsumed\u001b[0m\u001b[0;34m:\u001b[0m\u001b[0;34m]\u001b[0m\u001b[0;34m\u001b[0m\u001b[0;34m\u001b[0m\u001b[0m\n",
      "\u001b[0;31mKeyboardInterrupt\u001b[0m: "
     ]
    }
   ],
   "source": [
    "d1 = []\n",
    "for i in calm_days:\n",
    "    d1.append(get_index('cape',i[0],i[1],i[2],i[3],'0700'))"
   ]
  },
  {
   "cell_type": "code",
   "execution_count": null,
   "metadata": {
    "hidden": true
   },
   "outputs": [],
   "source": [
    "e1 = [x[1] for x in d1 if x != None]\n",
    "e1 = [x for x in e1 if x != 0.0]\n",
    "e1 = [x for x in e1 if x != None]\n",
    "e1 = [x for x in e1 if x > 0.0]\n",
    "e1.sort()"
   ]
  },
  {
   "cell_type": "code",
   "execution_count": null,
   "metadata": {
    "hidden": true
   },
   "outputs": [],
   "source": [
    "len(e1)"
   ]
  },
  {
   "cell_type": "code",
   "execution_count": null,
   "metadata": {
    "hidden": true
   },
   "outputs": [],
   "source": [
    "spread = e1[int((len(e1)/4)):(-int(len(e1)/4))]\n",
    "center = e1[int(len(e1)/2)]\n",
    "flier_high = e1[-1]\n",
    "flier_low = e1[0]\n",
    "data = np.concatenate((spread, center, flier_high, flier_low))"
   ]
  },
  {
   "cell_type": "code",
   "execution_count": null,
   "metadata": {
    "hidden": true
   },
   "outputs": [],
   "source": [
    "dth = []\n",
    "for i in th_dates.values():\n",
    "    dth.append(get_index('cape',i[0],i[1],i[2],i[3],'0700'))\n",
    "dth = [x[1] for x in dth if x != None and x[1] != None]\n",
    "dth = [x for x in dth if x != 0.0]"
   ]
  },
  {
   "cell_type": "code",
   "execution_count": 102,
   "metadata": {
    "hidden": true
   },
   "outputs": [],
   "source": [
    "dstrong = []\n",
    "for i in strong_dic.values():\n",
    "    dstrong.append(get_index('cape',i[0],i[1],i[2],i[3]))"
   ]
  },
  {
   "cell_type": "code",
   "execution_count": 103,
   "metadata": {
    "hidden": true
   },
   "outputs": [],
   "source": [
    "dstrong = [x[1] for x in dstrong if x != None and x[1] != None]"
   ]
  },
  {
   "cell_type": "code",
   "execution_count": 104,
   "metadata": {
    "hidden": true
   },
   "outputs": [],
   "source": [
    "dstrong = [x for x in dstrong if x != 0.0]"
   ]
  },
  {
   "cell_type": "code",
   "execution_count": 100,
   "metadata": {
    "hidden": true
   },
   "outputs": [],
   "source": [
    "dweak = []\n",
    "for i in weak_dic.values():\n",
    "    dweak.append(get_index('cape',i[0],i[1],i[2],i[3]))\n",
    "dweak = [x[1] for x in dweak if x != None and x[1] != None]\n",
    "dweak = [x for x in dweak if x != 0.0]"
   ]
  },
  {
   "cell_type": "code",
   "execution_count": 111,
   "metadata": {
    "hidden": true
   },
   "outputs": [],
   "source": [
    "dintense = []\n",
    "for i in intense_dic.values():\n",
    "    dintense.append(get_index('cape',i[0],i[1],i[2],i[3]))\n",
    "dintense = [x[1] for x in dintense if x != None and x[1] != None]\n",
    "dintense = [x for x in dintense if x != 0.0]"
   ]
  },
  {
   "cell_type": "code",
   "execution_count": 116,
   "metadata": {
    "hidden": true
   },
   "outputs": [
    {
     "data": {
      "text/plain": [
       "Text(0.5, 1.0, 'CAPE')"
      ]
     },
     "execution_count": 116,
     "metadata": {},
     "output_type": "execute_result"
    },
    {
     "data": {
      "image/png": "[encoded data removed]",
      "text/plain": [
       "<Figure size 432x288 with 1 Axes>"
      ]
     },
     "metadata": {
      "needs_background": "light"
     },
     "output_type": "display_data"
    }
   ],
   "source": [
    "sns.boxplot(data=[pd.DataFrame(e1),pd.DataFrame(dth),pd.DataFrame(dweak),pd.DataFrame(dstrong),pd.DataFrame(dintense)])\n",
    "plt.ylim(0,2500)\n",
    "plt.title('CAPE')"
   ]
  },
  {
   "cell_type": "code",
   "execution_count": 151,
   "metadata": {
    "hidden": true,
    "scrolled": false
   },
   "outputs": [
    {
     "data": {
      "text/plain": [
       "Text(0.5, 1.0, 'CAPE')"
      ]
     },
     "execution_count": 151,
     "metadata": {},
     "output_type": "execute_result"
    },
    {
     "data": {
      "image/png": "[encoded data removed]",
      "text/plain": [
       "<Figure size 432x288 with 1 Axes>"
      ]
     },
     "metadata": {
      "needs_background": "light"
     },
     "output_type": "display_data"
    }
   ],
   "source": [
    "sns.boxplot(data=[pd.DataFrame(e1, columns=[\"Calm\"]),pd.DataFrame(dth),pd.DataFrame(dweak+dstrong+dintense)])\n",
    "plt.ylim(0,2500)\n",
    "plt.title('CAPE')"
   ]
  },
  {
   "cell_type": "markdown",
   "metadata": {
    "heading_collapsed": true,
    "hidden": true
   },
   "source": [
    "### CIN"
   ]
  },
  {
   "cell_type": "code",
   "execution_count": null,
   "metadata": {
    "hidden": true
   },
   "outputs": [],
   "source": [
    "cincalm = []\n",
    "for i in calm_days:\n",
    "    cincalm.append(get_index('cin',i[0],i[1],i[2],i[3]))\n",
    "cincalm = [x[1] for x in cincalm if x != None]\n",
    "cincalm = [x for x in cincalm if x != 0.0]\n",
    "cincalm = [x for x in cincalm if x != None]"
   ]
  },
  {
   "cell_type": "code",
   "execution_count": null,
   "metadata": {
    "hidden": true
   },
   "outputs": [],
   "source": [
    "cinth = []\n",
    "for i in th_dates.values():\n",
    "    cinth.append(get_index('cin',i[0],i[1],i[2],i[3]))\n",
    "cinth = [x[1] for x cinth if x != None and x[1] != None]\n",
    "cinth = [x for x in cinth if x != 0.0]"
   ]
  },
  {
   "cell_type": "code",
   "execution_count": null,
   "metadata": {
    "hidden": true
   },
   "outputs": [],
   "source": [
    "cinweak = []\n",
    "for i in weak_dic.values():\n",
    "    cinweak.append(get_index('cin',i[0],i[1],i[2],i[3]))\n",
    "cinweak = [x[1] for x in cinweak if x != None and x[1] != None]\n",
    "cinweak = [x for x in cinweak if x != 0.0]"
   ]
  },
  {
   "cell_type": "code",
   "execution_count": null,
   "metadata": {
    "hidden": true
   },
   "outputs": [],
   "source": [
    "cinstrong = []\n",
    "for i in strong_dic.values():\n",
    "    cinstrong.append(get_index('cin',i[0],i[1],i[2],i[3]))\n",
    "cinstrong = [x[1] for x in cinstrong if x != None and x[1] != None]\n",
    "cinstrong = [x for x in cinstrong if x != 0.0]"
   ]
  },
  {
   "cell_type": "code",
   "execution_count": null,
   "metadata": {
    "hidden": true
   },
   "outputs": [],
   "source": [
    "cinintense = []\n",
    "for i in intense_dic.values():\n",
    "    cinintense.append(get_index('cin',i[0],i[1],i[2],i[3]))\n",
    "cinintense = [x[1] for x in cinintense if x != None and x[1] != None]\n",
    "cinintense = [x for x in cinintense if x != 0.0]"
   ]
  },
  {
   "cell_type": "code",
   "execution_count": null,
   "metadata": {
    "hidden": true
   },
   "outputs": [],
   "source": [
    "cincalm = [abs(x) for x in cincalm]\n",
    "cinth = [abs(x) for x in cinth]\n",
    "cinweak = [abs(x) for x in cinweak]\n",
    "cinstrong = [abs(x) for x in strong]\n",
    "cinintense = [abs(x) for x in cinintense]"
   ]
  },
  {
   "cell_type": "code",
   "execution_count": 126,
   "metadata": {
    "hidden": true,
    "scrolled": true
   },
   "outputs": [
    {
     "data": {
      "text/plain": [
       "Text(0.5, 1.0, 'CIN')"
      ]
     },
     "execution_count": 126,
     "metadata": {},
     "output_type": "execute_result"
    },
    {
     "data": {
      "image/png": "[encoded data removed]",
      "text/plain": [
       "<Figure size 432x288 with 1 Axes>"
      ]
     },
     "metadata": {
      "needs_background": "light"
     },
     "output_type": "display_data"
    }
   ],
   "source": [
    "sns.boxplot(data=[pd.DataFrame(cincalm),pd.DataFrame(cinth),pd.DataFrame(cinweak),pd.DataFrame(cinstrong),pd.DataFrame(cinintense)])\n",
    "plt.ylim(0,1000)\n",
    "plt.title('CIN')"
   ]
  },
  {
   "cell_type": "code",
   "execution_count": 128,
   "metadata": {
    "hidden": true,
    "scrolled": false
   },
   "outputs": [
    {
     "data": {
      "text/plain": [
       "Text(0.5, 1.0, 'CIN')"
      ]
     },
     "execution_count": 128,
     "metadata": {},
     "output_type": "execute_result"
    },
    {
     "data": {
      "image/png": "[encoded data removed]",
      "text/plain": [
       "<Figure size 432x288 with 1 Axes>"
      ]
     },
     "metadata": {
      "needs_background": "light"
     },
     "output_type": "display_data"
    }
   ],
   "source": [
    "sns.boxplot(data=[pd.DataFrame(cincalm),pd.DataFrame(cinth),pd.DataFrame(cinweak+cinstrong+cinintense)])\n",
    "plt.ylim(0,1000)\n",
    "plt.title('CIN')"
   ]
  },
  {
   "cell_type": "markdown",
   "metadata": {
    "heading_collapsed": true,
    "hidden": true
   },
   "source": [
    "### LIFT"
   ]
  },
  {
   "cell_type": "code",
   "execution_count": 130,
   "metadata": {
    "hidden": true
   },
   "outputs": [],
   "source": [
    "liftcalm = []\n",
    "for i in calm_days:\n",
    "    liftcalm.append(get_index('lift',i[0],i[1],i[2],i[3]))\n",
    "liftcalm = [x[1] for x in liftcalm if x != None]\n",
    "liftcalm = [x for x in liftcalm if x != 0.0]\n",
    "liftcalm = [x for x in liftcalm if x != None]"
   ]
  },
  {
   "cell_type": "code",
   "execution_count": 131,
   "metadata": {
    "hidden": true
   },
   "outputs": [],
   "source": [
    "liftth = []\n",
    "for i in th_dates.values():\n",
    "    liftth.append(get_index('lift',i[0],i[1],i[2],i[3]))\n",
    "liftth = [x[1] for x in liftth if x != None and x[1] != None]\n",
    "liftth = [x for x in liftth if x != 0.0]"
   ]
  },
  {
   "cell_type": "code",
   "execution_count": 132,
   "metadata": {
    "hidden": true
   },
   "outputs": [],
   "source": [
    "liftweak = []\n",
    "for i in weak_dic.values():\n",
    "    liftweak.append(get_index('lift',i[0],i[1],i[2],i[3]))\n",
    "liftweak = [x[1] for x in liftweak if x != None and x[1] != None]\n",
    "liftweak = [x for x in liftweak if x != 0.0]"
   ]
  },
  {
   "cell_type": "code",
   "execution_count": 133,
   "metadata": {
    "hidden": true
   },
   "outputs": [],
   "source": [
    "liftstrong = []\n",
    "for i in strong_dic.values():\n",
    "    liftstrong.append(get_index('lift',i[0],i[1],i[2],i[3]))\n",
    "liftstrong = [x[1] for x in liftstrong if x != None and x[1] != None]\n",
    "liftstrong = [x for x in liftstrong if x != 0.0]"
   ]
  },
  {
   "cell_type": "code",
   "execution_count": 134,
   "metadata": {
    "hidden": true
   },
   "outputs": [],
   "source": [
    "liftintense = []\n",
    "for i in intense_dic.values():\n",
    "    liftintense.append(get_index('lift',i[0],i[1],i[2],i[3]))\n",
    "liftintense = [x[1] for x in liftintense if x != None and x[1] != None]\n",
    "liftintense = [x for x in liftintense if x != 0.0]"
   ]
  },
  {
   "cell_type": "code",
   "execution_count": null,
   "metadata": {
    "hidden": true
   },
   "outputs": [],
   "source": [
    "# liftcalm = [abs(x) for x in liftcalm]\n",
    "# liftth = [abs(x) for x in liftth]\n",
    "# liftweak = [abs(x) for x in liftweak]\n",
    "# liftstrong = [abs(x) for x in liftstrong]\n",
    "# liftintense = [abs(x) for x in liftintense]"
   ]
  },
  {
   "cell_type": "code",
   "execution_count": 139,
   "metadata": {
    "hidden": true,
    "scrolled": true
   },
   "outputs": [
    {
     "data": {
      "text/plain": [
       "Text(0.5, 1.0, 'LIFT')"
      ]
     },
     "execution_count": 139,
     "metadata": {},
     "output_type": "execute_result"
    },
    {
     "data": {
      "image/png": "[encoded data removed]",
      "text/plain": [
       "<Figure size 432x288 with 1 Axes>"
      ]
     },
     "metadata": {
      "needs_background": "light"
     },
     "output_type": "display_data"
    }
   ],
   "source": [
    "sns.boxplot(data=[pd.DataFrame(liftcalm),pd.DataFrame(liftth),pd.DataFrame(liftweak),pd.DataFrame(liftstrong),pd.DataFrame(liftintense)])\n",
    "plt.ylim(-50,50)\n",
    "plt.title('LIFT')"
   ]
  },
  {
   "cell_type": "code",
   "execution_count": 140,
   "metadata": {
    "hidden": true,
    "scrolled": true
   },
   "outputs": [
    {
     "data": {
      "text/plain": [
       "Text(0.5, 1.0, 'LIFT')"
      ]
     },
     "execution_count": 140,
     "metadata": {},
     "output_type": "execute_result"
    },
    {
     "data": {
      "image/png": "[encoded data removed]",
      "text/plain": [
       "<Figure size 432x288 with 1 Axes>"
      ]
     },
     "metadata": {
      "needs_background": "light"
     },
     "output_type": "display_data"
    }
   ],
   "source": [
    "sns.boxplot(data=[pd.DataFrame(liftcalm),pd.DataFrame(liftth),pd.DataFrame(liftweak+liftstrong+liftintense)])\n",
    "plt.ylim(-50,50)\n",
    "plt.title('LIFT')"
   ]
  },
  {
   "cell_type": "markdown",
   "metadata": {
    "heading_collapsed": true,
    "hidden": true
   },
   "source": [
    "### BRN"
   ]
  },
  {
   "cell_type": "code",
   "execution_count": 142,
   "metadata": {
    "hidden": true
   },
   "outputs": [],
   "source": [
    "brncalm = []\n",
    "for i in calm_days:\n",
    "    brncalm.append(get_index('brn',i[0],i[1],i[2],i[3]))\n",
    "brncalm = [x[1] for x in brncalm if x != None]\n",
    "brncalm = [x for x in brncalm if x != 0.0]\n",
    "brncalm = [x for x in brncalm if x != None]"
   ]
  },
  {
   "cell_type": "code",
   "execution_count": 143,
   "metadata": {
    "hidden": true
   },
   "outputs": [],
   "source": [
    "brnth = []\n",
    "for i in th_dates.values():\n",
    "    brnth.append(get_index('brn',i[0],i[1],i[2],i[3]))\n",
    "brnth = [x[1] for x in brnth if x != None and x[1] != None]\n",
    "brnth = [x for x in brnth if x != 0.0]"
   ]
  },
  {
   "cell_type": "code",
   "execution_count": 144,
   "metadata": {
    "hidden": true
   },
   "outputs": [],
   "source": [
    "brnweak = []\n",
    "for i in weak_dic.values():\n",
    "    brnweak.append(get_index('brn',i[0],i[1],i[2],i[3]))\n",
    "brnweak = [x[1] for x in brnweak if x != None and x[1] != None]\n",
    "brnweak = [x for x in brnweak if x != 0.0]"
   ]
  },
  {
   "cell_type": "code",
   "execution_count": 145,
   "metadata": {
    "hidden": true
   },
   "outputs": [],
   "source": [
    "brnstrong = []\n",
    "for i in strong_dic.values():\n",
    "    brnstrong.append(get_index('brn',i[0],i[1],i[2],i[3]))\n",
    "brnstrong = [x[1] for x in brnstrong if x != None and x[1] != None]\n",
    "brnstrong = [x for x in brnstrong if x != 0.0]"
   ]
  },
  {
   "cell_type": "code",
   "execution_count": 146,
   "metadata": {
    "hidden": true
   },
   "outputs": [],
   "source": [
    "brnintense = []\n",
    "for i in intense_dic.values():\n",
    "    brnintense.append(get_index('brn',i[0],i[1],i[2],i[3]))\n",
    "brnintense = [x[1] for x in brnintense if x != None and x[1] != None]\n",
    "brnintense = [x for x in brnintense if x != 0.0]"
   ]
  },
  {
   "cell_type": "code",
   "execution_count": null,
   "metadata": {
    "hidden": true
   },
   "outputs": [],
   "source": [
    "# liftcalm = [abs(x) for x in liftcalm]\n",
    "# liftth = [abs(x) for x in liftth]\n",
    "# liftweak = [abs(x) for x in liftweak]\n",
    "# liftstrong = [abs(x) for x in liftstrong]\n",
    "# liftintense = [abs(x) for x in liftintense]"
   ]
  },
  {
   "cell_type": "code",
   "execution_count": 149,
   "metadata": {
    "hidden": true,
    "scrolled": true
   },
   "outputs": [
    {
     "data": {
      "text/plain": [
       "Text(0.5, 1.0, 'BRN')"
      ]
     },
     "execution_count": 149,
     "metadata": {},
     "output_type": "execute_result"
    },
    {
     "data": {
      "image/png": "[encoded data removed]",
      "text/plain": [
       "<Figure size 432x288 with 1 Axes>"
      ]
     },
     "metadata": {
      "needs_background": "light"
     },
     "output_type": "display_data"
    }
   ],
   "source": [
    "sns.boxplot(data=[pd.DataFrame(brncalm),pd.DataFrame(brnth),pd.DataFrame(brnweak),pd.DataFrame(brnstrong),pd.DataFrame(brnintense)])\n",
    "plt.ylim(-100, 200)\n",
    "plt.title('BRN')"
   ]
  },
  {
   "cell_type": "code",
   "execution_count": 150,
   "metadata": {
    "hidden": true,
    "scrolled": true
   },
   "outputs": [
    {
     "data": {
      "text/plain": [
       "Text(0.5, 1.0, 'BRN')"
      ]
     },
     "execution_count": 150,
     "metadata": {},
     "output_type": "execute_result"
    },
    {
     "data": {
      "image/png": "[encoded data removed]",
      "text/plain": [
       "<Figure size 432x288 with 1 Axes>"
      ]
     },
     "metadata": {
      "needs_background": "light"
     },
     "output_type": "display_data"
    }
   ],
   "source": [
    "sns.boxplot(data=[pd.DataFrame(brncalm),pd.DataFrame(brnth),pd.DataFrame(brnweak+brnstrong+brnintense)])\n",
    "plt.ylim(-100, 200)\n",
    "plt.title('BRN')"
   ]
  },
  {
   "cell_type": "code",
   "execution_count": null,
   "metadata": {
    "hidden": true
   },
   "outputs": [],
   "source": []
  },
  {
   "cell_type": "code",
   "execution_count": null,
   "metadata": {
    "hidden": true
   },
   "outputs": [],
   "source": []
  },
  {
   "cell_type": "markdown",
   "metadata": {},
   "source": [
    "## Neural Net Dataset Retrieval\n",
    "sorting the sounding data into a format that can be used in machine learning: csv with many input columns and one corresponding output column"
   ]
  },
  {
   "cell_type": "code",
   "execution_count": 228,
   "metadata": {
    "code_folding": []
   },
   "outputs": [],
   "source": [
    "def get_nn_set(daylist):\n",
    "    nn_list = []\n",
    "    error_stream = []\n",
    "    for i in daylist:\n",
    "        #print(i)\n",
    "        try:\n",
    "            #grndtemp\n",
    "            try:\n",
    "                grnd_temp = float(get_data(i[0],i[1],i[2],i[3])[0][2])+273\n",
    "            except ValueError:\n",
    "                try:\n",
    "                    grnd_temp = float(get_data(i[0],i[1],i[2],i[3])[1][2])+273\n",
    "                except ValueError:\n",
    "                    grnd_temp = None\n",
    "            #grndpres\n",
    "            try:\n",
    "                grnd_pres = float(get_data(i[0],i[1],i[2],i[3])[0][1])\n",
    "            except ValueError:\n",
    "                try:\n",
    "                    grnd_pres = float(get_data(i[0],i[1],i[2],i[3])[1][1])\n",
    "                except ValueError:\n",
    "                    grnd_pres = None\n",
    "            #windspeed\n",
    "            try:\n",
    "                wind_speed = float(get_data(i[0],i[1],i[2],i[3])[0][7])\n",
    "            except ValueError:\n",
    "                try:\n",
    "                    wind_speed = float(get_data(i[0],i[1],i[2],i[3])[1][7])\n",
    "                except ValueError:\n",
    "                    wind_speed = None\n",
    "            #winddir\n",
    "            try:\n",
    "                wind_dir = float(get_data(i[0],i[1],i[2],i[3])[0][6])\n",
    "            except ValueError:\n",
    "                try:\n",
    "                    wind_dir = float(get_data(i[0],i[1],i[2],i[3])[1][6])\n",
    "                except ValueError:\n",
    "                    wind_dir = None\n",
    "            cape = get_index('cape',i[0],i[1],i[2],i[3],i[4])\n",
    "            if cape != None:\n",
    "                cape = cape[1]\n",
    "            cin = get_index('cin',i[0],i[1],i[2],i[3],i[4])\n",
    "            if cin != None:\n",
    "                cin = cin[1]\n",
    "            brn = get_index('brn',i[0],i[1],i[2],i[3],i[4])\n",
    "            if brn != None:\n",
    "                brn = brn[1]\n",
    "            lift = get_index('lift',i[0],i[1],i[2],i[3],i[4])\n",
    "            if lift != None:\n",
    "                lift = lift[1]\n",
    "            show = get_index('show',i[0],i[1],i[2],i[3],i[4])\n",
    "            k = get_index('k',i[0],i[1],i[2],i[3],i[4])\n",
    "            sweat = get_index('sweat',i[0],i[1],i[2],i[3],i[4])\n",
    "            cross = get_index('cross',i[0],i[1],i[2],i[3],i[4])\n",
    "            vertical = get_index('vertical',i[0],i[1],i[2],i[3],i[4])\n",
    "            totals = get_index('totals',i[0],i[1],i[2],i[3],i[4])\n",
    "            nn_list.append([(str(i[0]),str(i[1]),str(i[2]).zfill(2),str(i[3]).zfill(2)),grnd_temp,grnd_pres,wind_speed,\n",
    "                            wind_dir,cape,cin,brn,lift,show,k,sweat,cross,vertical,totals])\n",
    "        except IndexError:\n",
    "            error_stream.append(\"IndexError \"+ str(i)+ \"\\n\") \n",
    "        except FileNotFoundError:\n",
    "            error_stream.append(\"FileNotFoundError \"+ str(i)+ \"\\n\")\n",
    "    return nn_list, error_stream"
   ]
  },
  {
   "cell_type": "code",
   "execution_count": 227,
   "metadata": {
    "collapsed": true
   },
   "outputs": [
    {
     "name": "stdout",
     "output_type": "stream",
     "text": [
      "['1023.0', '62', '5.6', '4.6', '93', '5.22', '', '', '276.9', '291.3', '277.8']\n",
      "['1000.0', '241', '5.2', '5.2', '100', '5.57', '165', '15', '278.4', '293.7', '279.3']\n",
      "['992.3', '304', '4.8', '4.8', '100', '5.48', '175', '21', '278.6', '293.7', '279.5']\n",
      "['955.7', '609', '3.1', '3.1', '100', '5.02', '190', '25', '279.8', '293.8', '280.7']\n",
      "['920.5', '914', '1.3', '1.3', '100', '4.60', '200', '27', '281.1', '294.0', '281.9']\n",
      "['886.6', '1219', '-0.4', '-0.4', '100', '4.21', '205', '27', '282.3', '294.2', '283.0']\n",
      "['866.0', '1410', '-1.5', '-1.5', '100', '3.97', '216', '28', '283.1', '294.4', '283.7']\n",
      "['850.0', '1559', '-2.9', '-5.5', '82', '3.00', '225', '28', '283.1', '291.8', '283.6']\n",
      "['821.9', '1828', '1.5', '1.4', '99', '5.17', '260', '33', '290.4', '305.5', '291.4']\n",
      "['821.0', '1836', '1.6', '1.6', '100', '5.26', '260', '33', '290.7', '306.0', '291.6']\n",
      "['791.2', '2133', '1.0', '1.0', '100', '5.23', '265', '36', '293.1', '308.5', '294.1']\n",
      "['761.8', '2438', '0.4', '0.4', '100', '5.20', '265', '38', '295.7', '311.1', '296.6']\n",
      "['757.0', '2489', '0.3', '0.3', '100', '5.19', '264', '38', '296.1', '311.6', '297.0']\n",
      "['733.2', '2743', '-1.7', '-1.7', '100', '4.64', '260', '37', '296.7', '310.6', '297.5']\n",
      "['700.0', '3111', '-4.5', '-4.5', '100', '3.93', '270', '40', '297.5', '309.4', '298.2']\n",
      "['670.0', '3455', '-6.7', '-6.7', '100', '3.47', '273', '42', '298.8', '309.4', '299.4']\n",
      "['652.8', '3657', '-9.2', '-21.0', '38', '1.10', '275', '43', '298.1', '301.7', '298.3']\n",
      "['651.0', '3678', '-9.5', '-22.5', '34', '0.97', '275', '43', '298.1', '301.3', '298.2']\n",
      "['618.0', '4078', '-11.5', '-25.5', '30', '0.78', '275', '46', '300.2', '302.9', '300.4']\n",
      "['604.0', '4254', '-10.5', '-17.5', '56', '1.61', '275', '48', '303.4', '308.6', '303.6']\n",
      "['602.9', '4267', '-10.6', '-17.6', '57', '1.61', '275', '48', '303.4', '308.7', '303.7']\n",
      "['559.0', '4844', '-14.5', '-19.5', '66', '1.47', '275', '43', '305.4', '310.3', '305.7']\n",
      "['556.6', '4876', '-14.7', '-20.2', '63', '1.39', '275', '43', '305.5', '310.2', '305.8']\n",
      "['500.0', '5680', '-19.9', '-37.9', '19', '0.29', '285', '42', '308.7', '309.8', '308.8']\n",
      "['472.6', '6096', '-21.7', '-41.0', '16', '0.23', '285', '48', '311.4', '312.3', '311.5']\n",
      "['456.0', '6361', '-22.9', '-42.9', '14', '0.19', '286', '50', '313.2', '313.9', '313.2']\n",
      "['416.9', '7010', '-28.1', '-41.9', '25', '0.23', '290', '55', '314.6', '315.5', '314.7']\n",
      "['400.0', '7310', '-30.5', '-41.5', '33', '0.25', '290', '51', '315.3', '316.2', '315.3']\n",
      "['382.7', '7620', '-32.5', '-42.3', '37', '0.24', '290', '44', '316.7', '317.6', '316.7']\n",
      "['345.0', '8349', '-37.1', '-44.1', '48', '0.22', '285', '43', '319.9', '320.8', '320.0']\n",
      "['307.0', '9144', '-44.1', '', '', '', '280', '42', '320.9', '', '320.9']\n",
      "['300.0', '9300', '-45.5', '', '', '', '280', '42', '321.1', '', '321.1']\n",
      "['250.0', '10480', '-56.3', '', '', '', '280', '47', '322.2', '', '322.2']\n",
      "['242.5', '10668', '-57.9', '', '', '', '280', '47', '322.6', '', '322.6']\n",
      "['200.0', '11860', '-68.1', '', '', '', '290', '64', '324.8', '', '324.8']\n",
      "['189.3', '12192', '-70.5', '', '', '', '285', '75', '326.0', '', '326.0']\n",
      "['186.0', '12298', '-71.3', '', '', '', '285', '73', '326.4', '', '326.4']\n",
      "['182.0', '12430', '-64.8', '', '', '', '285', '75', '339.1', '', '339.1']\n",
      "['181.0', '12464', '-63.1', '', '', '', '285', '74', '342.3', '', '342.3']\n",
      "['161.0', '13205', '-56.1', '', '', '', '291', '55', '365.8', '', '365.8']\n",
      "['150.0', '13660', '-56.1', '', '', '', '295', '44', '373.2', '', '373.2']\n",
      "['141.7', '14020', '-56.3', '', '', '', '295', '40', '379.1', '', '379.1']\n",
      "['100.0', '16220', '-57.3', '', '', '', '290', '48', '416.7', '', '416.7']\n"
     ]
    }
   ],
   "source": [
    "#test\n",
    "for i in get_data('72797',1973,'01','01'):\n",
    "    print(i)"
   ]
  },
  {
   "cell_type": "code",
   "execution_count": 229,
   "metadata": {
    "scrolled": true
   },
   "outputs": [],
   "source": [
    "calm_nn = get_nn_set(calm_days)[0]     #0"
   ]
  },
  {
   "cell_type": "code",
   "execution_count": 212,
   "metadata": {},
   "outputs": [
    {
     "data": {
      "text/plain": [
       "520388"
      ]
     },
     "execution_count": 212,
     "metadata": {},
     "output_type": "execute_result"
    }
   ],
   "source": [
    "len(calm_nn)"
   ]
  },
  {
   "cell_type": "code",
   "execution_count": 230,
   "metadata": {
    "scrolled": true
   },
   "outputs": [],
   "source": [
    "th_nn = get_nn_set(list(th_dates.values()))[0]    #0"
   ]
  },
  {
   "cell_type": "code",
   "execution_count": 214,
   "metadata": {},
   "outputs": [
    {
     "data": {
      "text/plain": [
       "17476"
      ]
     },
     "execution_count": 214,
     "metadata": {},
     "output_type": "execute_result"
    }
   ],
   "source": [
    "len(th_nn)"
   ]
  },
  {
   "cell_type": "code",
   "execution_count": 242,
   "metadata": {},
   "outputs": [],
   "source": [
    "weak_nn = get_nn_set(list(weak_dic.values()))[0]    #1"
   ]
  },
  {
   "cell_type": "code",
   "execution_count": 243,
   "metadata": {},
   "outputs": [],
   "source": [
    "strong_nn = get_nn_set(list(strong_dic.values()))[0]    #1"
   ]
  },
  {
   "cell_type": "code",
   "execution_count": 244,
   "metadata": {},
   "outputs": [],
   "source": [
    "intense_nn = get_nn_set(list(intense_dic.values()))[0]    #1"
   ]
  },
  {
   "cell_type": "code",
   "execution_count": 245,
   "metadata": {},
   "outputs": [],
   "source": [
    "unsorted_nn = get_nn_set(list(unsorted_dic.values()))[0]    #1"
   ]
  },
  {
   "cell_type": "code",
   "execution_count": 246,
   "metadata": {},
   "outputs": [],
   "source": [
    "nn_learning_data = []\n",
    "title = ['Date','Grnd Temp','Geo Height','Grnd Wind Speed','Grnd Wind Dir','CAPE','CIN','BRN','LIFT','SHOW','K',\n",
    "        'SWEAT','Cross','Vertical','Totals','Tornado']\n",
    "nn_learning_data.append(title)\n",
    "for i in calm_nn:\n",
    "    nn_learning_data.append(i+[0])\n",
    "for i in th_nn:\n",
    "    nn_learning_data.append(i+[0])\n",
    "for i in weak_nn:\n",
    "    nn_learning_data.append(i+[1])\n",
    "for i in strong_nn:\n",
    "    nn_learning_data.append(i+[1])\n",
    "for i in intense_nn:\n",
    "    nn_learning_data.append(i+[1])\n",
    "for i in unsorted_nn:\n",
    "    nn_learning_data.append(i+[1])"
   ]
  },
  {
   "cell_type": "code",
   "execution_count": 253,
   "metadata": {},
   "outputs": [],
   "source": [
    "import random"
   ]
  },
  {
   "cell_type": "code",
   "execution_count": 248,
   "metadata": {},
   "outputs": [],
   "source": [
    "\n",
    "with open(\"sounding_ann_data_jul20_full.csv\", \"w\") as f:\n",
    "    writer = csv.writer(f)\n",
    "    writer.writerows(nn_learning_data)"
   ]
  },
  {
   "cell_type": "code",
   "execution_count": 254,
   "metadata": {},
   "outputs": [],
   "source": [
    "tmp  = []\n",
    "i = 0\n",
    "while i<535763:\n",
    "    rn = int(random.random()*535763)\n",
    "    tmp.append(rn)\n",
    "    i+=1"
   ]
  },
  {
   "cell_type": "code",
   "execution_count": 255,
   "metadata": {},
   "outputs": [],
   "source": [
    "tmp.sort(reverse=True)\n",
    "less_nn_learning_data = []\n",
    "for i in nn_learning_data:\n",
    "    less_nn_learning_data.append(i)\n",
    "for i in tmp:\n",
    "    del less_nn_learning_data[i]"
   ]
  },
  {
   "cell_type": "code",
   "execution_count": 259,
   "metadata": {},
   "outputs": [],
   "source": [
    "with open(\"sounding_ann_data_jul20_less.csv\", \"w\") as f:\n",
    "    writer = csv.writer(f)\n",
    "    writer.writerows([title]+less_nn_learning_data)"
   ]
  }
 ],
 "metadata": {
  "kernelspec": {
   "display_name": "Python 3",
   "language": "python",
   "name": "python3"
  },
  "language_info": {
   "codemirror_mode": {
    "name": "ipython",
    "version": 3
   },
   "file_extension": ".py",
   "mimetype": "text/x-python",
   "name": "python",
   "nbconvert_exporter": "python",
   "pygments_lexer": "ipython3",
   "version": "3.8.3"
  }
 },
 "nbformat": 4,
 "nbformat_minor": 2
}
